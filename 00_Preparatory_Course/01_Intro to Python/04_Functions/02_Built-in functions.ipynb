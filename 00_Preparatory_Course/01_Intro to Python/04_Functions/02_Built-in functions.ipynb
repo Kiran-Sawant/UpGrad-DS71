{
 "cells": [
  {
   "cell_type": "markdown",
   "id": "2bbcdb9c",
   "metadata": {},
   "source": [
    "# map function<br>\n",
    "\n",
    "Syntax: `map(function_name, iterable) -> map`\n",
    "\n",
    "The built-in **`map()`** function accepts two arguments, a function and an iterable.<br>You need to pass the function without calling it and the iterable as a variable(prefferably).<br>\n",
    "The `map()` function will apply the function to each value in the passed iterable and return a map object.<br>This map object can be used to create an iterable that contains the output."
   ]
  },
  {
   "cell_type": "code",
   "execution_count": 1,
   "id": "0db86320",
   "metadata": {},
   "outputs": [
    {
     "data": {
      "text/plain": [
       "'USA'"
      ]
     },
     "execution_count": 1,
     "metadata": {},
     "output_type": "execute_result"
    }
   ],
   "source": [
    "# Creating a function to pass in map() function.\n",
    "\n",
    "countries = ['India', 'Iran', 'Italy', 'Ireland', 'Iraq']\n",
    "\n",
    "lamb = lambda x: x.upper()\n",
    "\n",
    "lamb('usa')"
   ]
  },
  {
   "cell_type": "markdown",
   "id": "0c7dd87f",
   "metadata": {},
   "source": [
    "If we want to create a new list that contains all the names but in upper case, we'll have to implement a loop."
   ]
  },
  {
   "cell_type": "code",
   "execution_count": 2,
   "id": "e5da85f3",
   "metadata": {},
   "outputs": [
    {
     "data": {
      "text/plain": [
       "['INDIA', 'IRAN', 'ITALY', 'IRELAND', 'IRAQ']"
      ]
     },
     "execution_count": 2,
     "metadata": {},
     "output_type": "execute_result"
    }
   ],
   "source": [
    "capital_countries = list()\n",
    "\n",
    "for country in countries:\n",
    "    capital_countries.append(country.upper())\n",
    "    \n",
    "capital_countries"
   ]
  },
  {
   "cell_type": "markdown",
   "id": "72d689ee",
   "metadata": {},
   "source": [
    "The loop can be avoided by making use of the map() function.<br>\n",
    "Both loop and `map()` give same output."
   ]
  },
  {
   "cell_type": "code",
   "execution_count": 4,
   "id": "e5cccd14",
   "metadata": {},
   "outputs": [
    {
     "name": "stdout",
     "output_type": "stream",
     "text": [
      "maped is of type <class 'map'>\n",
      "['INDIA', 'IRAN', 'ITALY', 'IRELAND', 'IRAQ']\n"
     ]
    }
   ],
   "source": [
    "# applying lamb function to all values in countries.\n",
    "maped = map(lamb, countries)\n",
    "\n",
    "print(f'maped is of type {type(maped)}')\n",
    "print(list(maped))"
   ]
  },
  {
   "cell_type": "markdown",
   "id": "37968291",
   "metadata": {},
   "source": [
    "### Map with two functional arguments"
   ]
  },
  {
   "cell_type": "code",
   "execution_count": 29,
   "id": "23dcb7a3",
   "metadata": {},
   "outputs": [
    {
     "data": {
      "text/plain": [
       "['Ankur Narang', 'Avik Sarkar', 'Kiran R', 'Nitin Sareen']"
      ]
     },
     "execution_count": 29,
     "metadata": {},
     "output_type": "execute_result"
    }
   ],
   "source": [
    "input_list = [ ['Ankur', 'Avik', 'Kiran', 'Nitin'], ['Narang', 'Sarkar', 'R', 'Sareen']]\n",
    "\n",
    "first_name = input_list[0]\n",
    "last_name = input_list[1]\n",
    "\n",
    "name = list(map(lambda x, y: x + ' ' + y, first_name, last_name))\n",
    "name"
   ]
  },
  {
   "cell_type": "markdown",
   "id": "ee4c596c",
   "metadata": {},
   "source": [
    "# filter function<br>\n",
    "Syntax: `filter(func_name -> bool, iterable)`\n",
    "\n",
    "The filter function is used when you want to extract only certain values from an iterable that satisfy a condition.<br>\n",
    "Unlike `map()`, `filter()` is not used to give an output, but only to check items inside an iterable and return the item if the function returns True<br>\n",
    "Therefore, in a `filter()` method you need to pass a function that returns a boolean and not a function that performs some operation and returns a non-boolean value."
   ]
  },
  {
   "cell_type": "code",
   "execution_count": 6,
   "id": "6c66c90c",
   "metadata": {},
   "outputs": [
    {
     "data": {
      "text/plain": [
       "True"
      ]
     },
     "execution_count": 6,
     "metadata": {},
     "output_type": "execute_result"
    }
   ],
   "source": [
    "my_list = [3, 4, 6, 8, 12, 13, 16, 18, 20, 21]\n",
    "\n",
    "# Here, lambda checks for divisibility of x by 3; returns false if not.\n",
    "divby3 = lambda x: x % 3 == 0\n",
    "\n",
    "divby3(15)"
   ]
  },
  {
   "cell_type": "code",
   "execution_count": 9,
   "id": "3a7fdef6",
   "metadata": {},
   "outputs": [
    {
     "name": "stdout",
     "output_type": "stream",
     "text": [
      "div is of type  <class 'filter'>\n",
      "[3, 6, 12, 18, 21]\n"
     ]
    }
   ],
   "source": [
    "# Perform a filter on all values of my_list and return all values that are True\n",
    "div = filter(divby3, my_list)\n",
    "\n",
    "print('div is of type ', type(div))\n",
    "print(list(div))"
   ]
  },
  {
   "cell_type": "markdown",
   "id": "78bcea00",
   "metadata": {},
   "source": [
    "### Q) Write a program to count the number of students above age 18."
   ]
  },
  {
   "cell_type": "code",
   "execution_count": 12,
   "id": "110ec50d",
   "metadata": {},
   "outputs": [
    {
     "data": {
      "text/plain": [
       "False"
      ]
     },
     "execution_count": 12,
     "metadata": {},
     "output_type": "execute_result"
    }
   ],
   "source": [
    "students_data = {1:['sam', 24], 2:['Rob', 25], 3:['Jack', 26], 4:['Cornor', 18], 5:['Trump', 15]}\n",
    "\n",
    "f = lambda x: x[1] > 18\n",
    "f(['Kyle', 16])"
   ]
  },
  {
   "cell_type": "code",
   "execution_count": 15,
   "id": "31e2340c",
   "metadata": {},
   "outputs": [
    {
     "name": "stdout",
     "output_type": "stream",
     "text": [
      "3\n"
     ]
    }
   ],
   "source": [
    "# applying the filter method.\n",
    "\n",
    "# The filter applies f on all values of dictionary, and returns a filter object of all values > 18.\n",
    "#We then convert it to a list and print its length.\n",
    "print(len(list(filter(f, students_data.values()))))"
   ]
  },
  {
   "cell_type": "markdown",
   "id": "e5f09fcc",
   "metadata": {},
   "source": [
    "# reduce function\n",
    "**syntax:** `reduce(func_name, iterable)`\n",
    "\n",
    "The `reduce()` function takes a function and an iterable similar to `map()` and `filter()`<br>\n",
    "However, unlike them, `reduce()` performs the function on two consequtive values of the iterable rather than one.<br>\n",
    "It takes the output of the operation performed on the first two values in the iterable, and then performs the same operation using that output and the third value.<br>Finally, it returns the a single value after final operation.<br>\n",
    "`reduce()` is not a built-in function, instead one needs to import it from the `functools` module which is a part of Python standard library<br><br>\n",
    "In the example below, reduce takes 1 & 2 from nums, multiplies them using func_2 and then takes the output and multiplies it with next value i.e. 3."
   ]
  },
  {
   "cell_type": "code",
   "execution_count": 1,
   "id": "1e7d309f",
   "metadata": {},
   "outputs": [],
   "source": [
    "from functools import reduce\n",
    "\n",
    "nums = list(range(1, 7))\n",
    "\n",
    "func_2 = lambda x, y: x*y"
   ]
  },
  {
   "cell_type": "code",
   "execution_count": 2,
   "id": "5cbb2a63",
   "metadata": {},
   "outputs": [
    {
     "data": {
      "text/plain": [
       "720"
      ]
     },
     "execution_count": 2,
     "metadata": {},
     "output_type": "execute_result"
    }
   ],
   "source": [
    "q = reduce(func_2, nums)\n",
    "q"
   ]
  },
  {
   "cell_type": "code",
   "execution_count": 3,
   "id": "38ebc0df",
   "metadata": {},
   "outputs": [
    {
     "name": "stdout",
     "output_type": "stream",
     "text": [
      "99\n"
     ]
    }
   ],
   "source": [
    "'''Finding the largest number in the list'''\n",
    "from functools import reduce\n",
    "\n",
    "input_list = [65,76,87,23,12,90,99]\n",
    "\n",
    "answer = reduce(lambda x, y: y if x < y else x, input_list)\n",
    "\n",
    "print(answer)"
   ]
  },
  {
   "cell_type": "code",
   "execution_count": null,
   "id": "144ff6bd",
   "metadata": {},
   "outputs": [],
   "source": []
  }
 ],
 "metadata": {
  "kernelspec": {
   "display_name": "Python 3",
   "language": "python",
   "name": "python3"
  },
  "language_info": {
   "codemirror_mode": {
    "name": "ipython",
    "version": 3
   },
   "file_extension": ".py",
   "mimetype": "text/x-python",
   "name": "python",
   "nbconvert_exporter": "python",
   "pygments_lexer": "ipython3",
   "version": "3.11.4"
  }
 },
 "nbformat": 4,
 "nbformat_minor": 5
}
