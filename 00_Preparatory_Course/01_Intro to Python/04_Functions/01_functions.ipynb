{
 "cells": [
  {
   "cell_type": "markdown",
   "id": "29798d6f",
   "metadata": {},
   "source": [
    "# Functions\n",
    "\n",
    "Functions are reusable pieces of programs. They allow you to give a name to a block of statements, allowing you to run that block<br>\n",
    "using the specified name anywhere in your program and any number of times. This is known as calling the function.<br>\n",
    "We have already used many built-in functions such as len and range.<br><br>\n",
    "\n",
    "The function concept is probably the most important building block of any non-trivial software (in any programming language).<br><br>\n",
    "\n",
    "Functions are defined using the `def` keyword. After this keyword comes an identifier name for the function, followed by a pair of parentheses which may enclose some names of variables, and by the final colon that ends the line. Next follows the block of statements that are part of this function."
   ]
  },
  {
   "cell_type": "markdown",
   "id": "5d98e754",
   "metadata": {},
   "source": [
    "### Defining a function\n",
    "\n",
    "```\n",
    "def name_of_the_function(arguments, keyword_arguments):\n",
    "    code_block\n",
    "    return return_statement\n",
    "```"
   ]
  },
  {
   "cell_type": "code",
   "execution_count": null,
   "id": "8b19bba7",
   "metadata": {},
   "outputs": [],
   "source": [
    "# Declaring a function\n",
    "\n",
    "def name_of_the_function(n):\n",
    "    # write the code\n",
    "    return 4"
   ]
  },
  {
   "cell_type": "code",
   "execution_count": null,
   "id": "1afe213b",
   "metadata": {},
   "outputs": [
    {
     "data": {
      "text/plain": [
       "4"
      ]
     },
     "execution_count": 2,
     "metadata": {},
     "output_type": "execute_result"
    }
   ],
   "source": [
    "# Calling a funciton\n",
    "\n",
    "name_of_the_function(4)"
   ]
  },
  {
   "cell_type": "code",
   "execution_count": 7,
   "id": "853447e3",
   "metadata": {},
   "outputs": [],
   "source": [
    "# Declaring a function that returns the factorial of the nnumber that's passed\n",
    "\n",
    "def factorial(n:int) -> int:\n",
    "    start = 1\n",
    "    \n",
    "    for i in range(1, n+1):\n",
    "        start *= i\n",
    "    \n",
    "    return start"
   ]
  },
  {
   "cell_type": "code",
   "execution_count": 8,
   "id": "3eff36ad",
   "metadata": {},
   "outputs": [
    {
     "data": {
      "text/plain": [
       "24"
      ]
     },
     "execution_count": 8,
     "metadata": {},
     "output_type": "execute_result"
    }
   ],
   "source": [
    "factorial(4)"
   ]
  },
  {
   "cell_type": "markdown",
   "id": "e91c9cfb",
   "metadata": {},
   "source": [
    "## Functional Arguments\n",
    "\n",
    "Python functions can accept more than one argument.<br>However, if you do not pass a value to an argument for which there is no default declared, Python will throw an error.<br>\n",
    "Parameters are declared when the function is declared. Argument is the value that is passed to that function when calling that function.<br>In the example below, 'name' and 'age' are parameters where else 'Kiran' is an argument.<br><br>\n",
    "\n",
    "Required parameters: These parameters are necessary for the function to execute. While calling an inbuilt `max()` function, you need to pass a list or dictionary or other data structure. This means that a sequence is a required parameter for this function.<br>\n",
    "\n",
    "Default arguments: These parameters have a default value and will not throw any error if they are not passed while using the function. <br>\n",
    "\n",
    "Keyword parameters: These parameters are expected to be passed using a keyword. In the example of printing a list, you saw that passing end = ',' prints the elements of the list separated by a comma instead of the default newline format. This is a classic example of a keyword argument, the value of which is changed by using the end keyword and specifying the value.<br>\n",
    "\n",
    "Variable-length parameters: These enable the function to accept multiple arguments."
   ]
  },
  {
   "cell_type": "code",
   "execution_count": null,
   "id": "2845e716",
   "metadata": {},
   "outputs": [],
   "source": [
    "def func(name:str, age:int):             # default parameters\n",
    "    print('name: ', name)\n",
    "    print('age', age)"
   ]
  },
  {
   "cell_type": "code",
   "execution_count": null,
   "id": "1a20b898",
   "metadata": {},
   "outputs": [
    {
     "ename": "TypeError",
     "evalue": "func() missing 1 required positional argument: 'age'",
     "output_type": "error",
     "traceback": [
      "\u001b[1;31m---------------------------------------------------------------------------\u001b[0m",
      "\u001b[1;31mTypeError\u001b[0m                                 Traceback (most recent call last)",
      "Cell \u001b[1;32mIn[18], line 1\u001b[0m\n\u001b[1;32m----> 1\u001b[0m \u001b[43mfunc\u001b[49m\u001b[43m(\u001b[49m\u001b[38;5;124;43m'\u001b[39;49m\u001b[38;5;124;43mKiran\u001b[39;49m\u001b[38;5;124;43m'\u001b[39;49m\u001b[43m)\u001b[49m\n",
      "\u001b[1;31mTypeError\u001b[0m: func() missing 1 required positional argument: 'age'"
     ]
    }
   ],
   "source": [
    "# Here, we pass value for name but not age\n",
    "func('Kiran')"
   ]
  },
  {
   "cell_type": "markdown",
   "id": "7a42c20f",
   "metadata": {},
   "source": [
    "### Default parameters\n",
    "\n",
    "Default parameters have been assigned a value when declaring the function itself. These parameters have a default value and will not throw any error if they are not passed while calling the function. <br>\n",
    "In the example below age is a default parameter.<br>\n",
    "The `:int` is called \"type annotation\" it is used to indicate the type of the argument that is supposed to be passed to this parametr.<br>\n",
    "Some basic type annotations are `int, float, list[str/int], bool`. Additional annotatioons can be imported using the 'Type' standard module."
   ]
  },
  {
   "cell_type": "code",
   "execution_count": 31,
   "id": "f86516a6",
   "metadata": {},
   "outputs": [],
   "source": [
    "def func2(name:str, age:int = 35):            # here, age is a default parameter.\n",
    "    print('name: ', name)\n",
    "    print('age', age)"
   ]
  },
  {
   "cell_type": "code",
   "execution_count": 36,
   "id": "bc1cbd86",
   "metadata": {},
   "outputs": [
    {
     "name": "stdout",
     "output_type": "stream",
     "text": [
      "name:  Kiran\n",
      "age 35\n"
     ]
    }
   ],
   "source": [
    "func2('Kiran')"
   ]
  },
  {
   "cell_type": "markdown",
   "id": "95f86fe3",
   "metadata": {},
   "source": [
    "### Order of arguments\n",
    "\n",
    "When passing arguments make sure you are passing them in the order that you have mentioned them in the function header.<br>\n",
    "If you want to pass arguments for only certain parameters, mention their name and assign value in function call. Such arguments are also called keyword-arguments (kwargs)"
   ]
  },
  {
   "cell_type": "code",
   "execution_count": 27,
   "id": "12221d24",
   "metadata": {},
   "outputs": [],
   "source": [
    "def func3(name:str, age:int = 35, city:str = 'Florida'):\n",
    "    print('name: ', name)\n",
    "    print('age: ', age)\n",
    "    print('city: ', city)"
   ]
  },
  {
   "cell_type": "code",
   "execution_count": 29,
   "id": "2afb6ca4",
   "metadata": {},
   "outputs": [
    {
     "name": "stdout",
     "output_type": "stream",
     "text": [
      "name:  Kiran\n",
      "age:  New York\n",
      "city:  Florida\n"
     ]
    }
   ],
   "source": [
    "# Calling function with incorrect argument ordering.\n",
    "# Here, 'New York' gets assigned to age parameter.\n",
    "\n",
    "func3('Kiran', 'New York')"
   ]
  },
  {
   "cell_type": "code",
   "execution_count": 30,
   "id": "b9675202",
   "metadata": {},
   "outputs": [
    {
     "name": "stdout",
     "output_type": "stream",
     "text": [
      "name:  Kiran\n",
      "age:  35\n",
      "city:  New York\n"
     ]
    }
   ],
   "source": [
    "# Here, we've skipped age and passed value to city by mentioning parameters name.\n",
    "\n",
    "func3('Kiran', city='New York')"
   ]
  },
  {
   "cell_type": "markdown",
   "id": "b68e97f6",
   "metadata": {},
   "source": [
    "### Variable-length parameters\n",
    "\n",
    "In Python, one can pass multiple arguments to a parameter that can vary in number.<br>However, to do that you will need to put an astricks before the parameter name that would accept multiple values.<br>\n",
    "By convention, *args is used as the parameter name to indicate that the parameter 'args' is capable of accepting multiple values.<br>\n",
    "Here, ***args acts as a tuple** that stores all the arguments passed to it.<br>\n",
    "As *args is a tuple it can store arguments of different data type."
   ]
  },
  {
   "cell_type": "code",
   "execution_count": 33,
   "id": "7a1d92ae",
   "metadata": {},
   "outputs": [],
   "source": [
    "def var_func(*args):\n",
    "    print(args)"
   ]
  },
  {
   "cell_type": "code",
   "execution_count": 34,
   "id": "123352db",
   "metadata": {},
   "outputs": [
    {
     "name": "stdout",
     "output_type": "stream",
     "text": [
      "(3, 4, 2, 1)\n"
     ]
    }
   ],
   "source": [
    "var_func(3, 4, 2, 1)"
   ]
  },
  {
   "cell_type": "markdown",
   "id": "fb3a2593",
   "metadata": {},
   "source": [
    "# Lambda Functions\n",
    "\n",
    "in Python, Lambda functions are small anonymous functions defined using the `lambda` keyword.<br>\n",
    "They can take any number of arguments but can only have one expression.<br>\n",
    "Unlike a function, lambda can be assigned to a variable and that variable can be used to call the lambda."
   ]
  },
  {
   "cell_type": "code",
   "execution_count": 37,
   "id": "8ac6877d",
   "metadata": {},
   "outputs": [
    {
     "data": {
      "text/plain": [
       "'odd'"
      ]
     },
     "execution_count": 37,
     "metadata": {},
     "output_type": "execute_result"
    }
   ],
   "source": [
    "# Write a function that checks if a number is odd or even.\n",
    "\n",
    "f = lambda x: 'even' if x % 2 == 0 else 'odd'\n",
    "\n",
    "f(3)"
   ]
  },
  {
   "cell_type": "code",
   "execution_count": 9,
   "id": "3553c112",
   "metadata": {},
   "outputs": [
    {
     "data": {
      "text/plain": [
       "30.0"
      ]
     },
     "execution_count": 9,
     "metadata": {},
     "output_type": "execute_result"
    }
   ],
   "source": [
    "#This lambda takes a list of integers as an argument returns its mean\n",
    "\n",
    "list_2 = [10,20,30,40,50]\n",
    "\n",
    "func = lambda x: sum(x)/len(x)\n",
    "\n",
    "func(list_2)"
   ]
  },
  {
   "cell_type": "code",
   "execution_count": null,
   "id": "b463a2c2",
   "metadata": {},
   "outputs": [],
   "source": []
  }
 ],
 "metadata": {
  "kernelspec": {
   "display_name": "Python 3",
   "language": "python",
   "name": "python3"
  },
  "language_info": {
   "codemirror_mode": {
    "name": "ipython",
    "version": 3
   },
   "file_extension": ".py",
   "mimetype": "text/x-python",
   "name": "python",
   "nbconvert_exporter": "python",
   "pygments_lexer": "ipython3",
   "version": "3.11.4"
  }
 },
 "nbformat": 4,
 "nbformat_minor": 5
}
