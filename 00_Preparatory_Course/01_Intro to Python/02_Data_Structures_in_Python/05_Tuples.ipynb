{
 "cells": [
  {
   "cell_type": "markdown",
   "id": "3d42d48a",
   "metadata": {},
   "source": [
    "# Tuples\n",
    "\n",
    "Tuples are an ordered sequence objects that can contain values, objects or even other tuples inside of them separated by a comma.<br> Unlike lists, tuples are generally enclosed inside of a pair of parenthesis (). However, this is not a compulsion by any means. Any built-in data-type followed by comma is considered as a tuple.<br> Unlike Lists, tuples are immutable in nature. Therefore, it is best suited to store a collection of data elements that are not desired to be changed."
   ]
  },
  {
   "cell_type": "markdown",
   "id": "80500dec",
   "metadata": {},
   "source": [
    "# Declaring a Tuple\n",
    "\n",
    "Tuples can be declared by using the tuple literal or by making use of `tuple()` constructor method.<br>\n",
    "To declare a single value tuple one must add a comma after the value as shown in the third example below."
   ]
  },
  {
   "cell_type": "code",
   "execution_count": 5,
   "id": "3bba9fd1",
   "metadata": {},
   "outputs": [
    {
     "name": "stdout",
     "output_type": "stream",
     "text": [
      "(1, 2, 'Mango', 'Truck', 5.664) \n",
      " (3, 4, 1, 'Banana') \n",
      " (33,)\n"
     ]
    }
   ],
   "source": [
    "tup_1 = (1, 2, 'Mango', 'Truck', 5.664)     # Tuple Literal\n",
    "\n",
    "tup_2 = 3, 4, 1, 'Banana'                   # Tuple literal without parenthesis\n",
    "\n",
    "tup_3 = 33,                                 # A single value tuple\n",
    "\n",
    "print(tup_1, '\\n', tup_2, '\\n', tup_3)"
   ]
  },
  {
   "cell_type": "markdown",
   "id": "c1a327db",
   "metadata": {},
   "source": [
    "### `tuple()` Constructor\n",
    "\n",
    "The `tuple()` constructor takes an iterable as an argument and returns a tuple. The tuple will consist of a collection of each item in the iterable."
   ]
  },
  {
   "cell_type": "code",
   "execution_count": 7,
   "id": "531c9835",
   "metadata": {},
   "outputs": [
    {
     "name": "stdout",
     "output_type": "stream",
     "text": [
      "('M', 'a', 'n', 'g', 'o')\n"
     ]
    }
   ],
   "source": [
    "string = 'Mango'\n",
    "\n",
    "tup = tuple(string)\n",
    "print(tup)"
   ]
  },
  {
   "cell_type": "markdown",
   "id": "888b1d27",
   "metadata": {},
   "source": [
    "# Indexing\n",
    "\n",
    "As Tuple is a sequence object, one can carry out indexing operation on tuples."
   ]
  },
  {
   "cell_type": "code",
   "execution_count": 24,
   "id": "c42fdfc9",
   "metadata": {},
   "outputs": [
    {
     "name": "stdout",
     "output_type": "stream",
     "text": [
      "Truck\n"
     ]
    }
   ],
   "source": [
    "tup_1 = (1, 2, 'Mango', 'Truck', 5.664)\n",
    "\n",
    "print(tup_1[3])\n"
   ]
  },
  {
   "cell_type": "markdown",
   "id": "868eaee2",
   "metadata": {},
   "source": [
    "# Slicing\n",
    "\n",
    "Like any other sequence data-types the slicing in tuples starts from 0 and the slicer takes start, end index and steps."
   ]
  },
  {
   "cell_type": "code",
   "execution_count": 15,
   "id": "36c3d208",
   "metadata": {},
   "outputs": [
    {
     "name": "stdout",
     "output_type": "stream",
     "text": [
      "(1, 'Mango', 5.664)\n"
     ]
    }
   ],
   "source": [
    "print(tup_1[0::2])"
   ]
  },
  {
   "cell_type": "markdown",
   "id": "e95419f7",
   "metadata": {},
   "source": [
    "# Concatinating Tuples"
   ]
  },
  {
   "cell_type": "code",
   "execution_count": 12,
   "id": "ebf2798c",
   "metadata": {},
   "outputs": [
    {
     "name": "stdout",
     "output_type": "stream",
     "text": [
      "('This', 'is', 'session', 2, 'On', 'Tuples')\n"
     ]
    }
   ],
   "source": [
    "tup_2 = ('This', 'is', 'session', 2)\n",
    "tup_3 = ('On', 'Tuples')\n",
    "\n",
    "print(tup_2 + tup_3)"
   ]
  },
  {
   "cell_type": "markdown",
   "id": "9c1b05f8",
   "metadata": {},
   "source": [
    "# Methods on tuples\n",
    "\n",
    "### sum() | min() | max()\n",
    "\n",
    "These methods can help you find the sum of all values, minimum and maximim of all values in a given tuple.<br>Do note that these methods apply only on tuples that have all numerical values in them."
   ]
  },
  {
   "cell_type": "code",
   "execution_count": 14,
   "id": "a615f2c0",
   "metadata": {},
   "outputs": [
    {
     "name": "stdout",
     "output_type": "stream",
     "text": [
      "The sum of (2, 3, 5, 6, 9, 8, 77) is 110\n",
      "The minimum in (2, 3, 5, 6, 9, 8, 77) is 2\n",
      "The maximum in (2, 3, 5, 6, 9, 8, 77) is 77\n"
     ]
    }
   ],
   "source": [
    "numerical = (2,3,5,6,9,8,77)\n",
    "\n",
    "print(f'The sum of {numerical} is {sum(numerical)}')\n",
    "print(f'The minimum in {numerical} is {min(numerical)}')\n",
    "print(f'The maximum in {numerical} is {max(numerical)}')"
   ]
  },
  {
   "cell_type": "markdown",
   "id": "21f77b53",
   "metadata": {},
   "source": [
    "# Packing and Unpacking in Tuples"
   ]
  },
  {
   "cell_type": "code",
   "execution_count": 16,
   "id": "2a2d67d6",
   "metadata": {},
   "outputs": [
    {
     "data": {
      "text/plain": [
       "(2, 3, 4, 5)"
      ]
     },
     "execution_count": 16,
     "metadata": {},
     "output_type": "execute_result"
    }
   ],
   "source": [
    "t = 2, 3, 4, 5      # packing\n",
    "t"
   ]
  },
  {
   "cell_type": "code",
   "execution_count": 17,
   "id": "a6eb1903",
   "metadata": {},
   "outputs": [
    {
     "name": "stdout",
     "output_type": "stream",
     "text": [
      "2 3 4 5\n"
     ]
    }
   ],
   "source": [
    "a, b, c, d = t      # unpacking\n",
    "\n",
    "print(a, b, c, d)"
   ]
  },
  {
   "cell_type": "code",
   "execution_count": 21,
   "id": "d6f321ef",
   "metadata": {},
   "outputs": [
    {
     "ename": "ValueError",
     "evalue": "too many values to unpack (expected 3)",
     "output_type": "error",
     "traceback": [
      "\u001b[1;31m---------------------------------------------------------------------------\u001b[0m",
      "\u001b[1;31mValueError\u001b[0m                                Traceback (most recent call last)",
      "Cell \u001b[1;32mIn[21], line 3\u001b[0m\n\u001b[0;32m      1\u001b[0m \u001b[38;5;66;03m# When unpacking the number of values on RHS and variables on LHS must be equal.\u001b[39;00m\n\u001b[1;32m----> 3\u001b[0m x, y, z \u001b[38;5;241m=\u001b[39m t        \n",
      "\u001b[1;31mValueError\u001b[0m: too many values to unpack (expected 3)"
     ]
    }
   ],
   "source": [
    "# When unpacking the number of values on RHS and variables on LHS must be equal.\n",
    "\n",
    "x, y, z = t        "
   ]
  },
  {
   "cell_type": "code",
   "execution_count": 20,
   "id": "cacf9c6f",
   "metadata": {},
   "outputs": [
    {
     "data": {
      "text/plain": [
       "['__add__',\n",
       " '__class__',\n",
       " '__class_getitem__',\n",
       " '__contains__',\n",
       " '__delattr__',\n",
       " '__dir__',\n",
       " '__doc__',\n",
       " '__eq__',\n",
       " '__format__',\n",
       " '__ge__',\n",
       " '__getattribute__',\n",
       " '__getitem__',\n",
       " '__getnewargs__',\n",
       " '__getstate__',\n",
       " '__gt__',\n",
       " '__hash__',\n",
       " '__init__',\n",
       " '__init_subclass__',\n",
       " '__iter__',\n",
       " '__le__',\n",
       " '__len__',\n",
       " '__lt__',\n",
       " '__mul__',\n",
       " '__ne__',\n",
       " '__new__',\n",
       " '__reduce__',\n",
       " '__reduce_ex__',\n",
       " '__repr__',\n",
       " '__rmul__',\n",
       " '__setattr__',\n",
       " '__sizeof__',\n",
       " '__str__',\n",
       " '__subclasshook__',\n",
       " 'count',\n",
       " 'index']"
      ]
     },
     "execution_count": 20,
     "metadata": {},
     "output_type": "execute_result"
    }
   ],
   "source": [
    "dir(t)"
   ]
  },
  {
   "cell_type": "code",
   "execution_count": 22,
   "id": "5ae016d4",
   "metadata": {},
   "outputs": [
    {
     "name": "stdout",
     "output_type": "stream",
     "text": [
      "Help on tuple object:\n",
      "\n",
      "class tuple(object)\n",
      " |  tuple(iterable=(), /)\n",
      " |  \n",
      " |  Built-in immutable sequence.\n",
      " |  \n",
      " |  If no argument is given, the constructor returns an empty tuple.\n",
      " |  If iterable is specified the tuple is initialized from iterable's items.\n",
      " |  \n",
      " |  If the argument is a tuple, the return value is the same object.\n",
      " |  \n",
      " |  Built-in subclasses:\n",
      " |      asyncgen_hooks\n",
      " |      UnraisableHookArgs\n",
      " |  \n",
      " |  Methods defined here:\n",
      " |  \n",
      " |  __add__(self, value, /)\n",
      " |      Return self+value.\n",
      " |  \n",
      " |  __contains__(self, key, /)\n",
      " |      Return key in self.\n",
      " |  \n",
      " |  __eq__(self, value, /)\n",
      " |      Return self==value.\n",
      " |  \n",
      " |  __ge__(self, value, /)\n",
      " |      Return self>=value.\n",
      " |  \n",
      " |  __getattribute__(self, name, /)\n",
      " |      Return getattr(self, name).\n",
      " |  \n",
      " |  __getitem__(self, key, /)\n",
      " |      Return self[key].\n",
      " |  \n",
      " |  __getnewargs__(self, /)\n",
      " |  \n",
      " |  __gt__(self, value, /)\n",
      " |      Return self>value.\n",
      " |  \n",
      " |  __hash__(self, /)\n",
      " |      Return hash(self).\n",
      " |  \n",
      " |  __iter__(self, /)\n",
      " |      Implement iter(self).\n",
      " |  \n",
      " |  __le__(self, value, /)\n",
      " |      Return self<=value.\n",
      " |  \n",
      " |  __len__(self, /)\n",
      " |      Return len(self).\n",
      " |  \n",
      " |  __lt__(self, value, /)\n",
      " |      Return self<value.\n",
      " |  \n",
      " |  __mul__(self, value, /)\n",
      " |      Return self*value.\n",
      " |  \n",
      " |  __ne__(self, value, /)\n",
      " |      Return self!=value.\n",
      " |  \n",
      " |  __repr__(self, /)\n",
      " |      Return repr(self).\n",
      " |  \n",
      " |  __rmul__(self, value, /)\n",
      " |      Return value*self.\n",
      " |  \n",
      " |  count(self, value, /)\n",
      " |      Return number of occurrences of value.\n",
      " |  \n",
      " |  index(self, value, start=0, stop=9223372036854775807, /)\n",
      " |      Return first index of value.\n",
      " |      \n",
      " |      Raises ValueError if the value is not present.\n",
      " |  \n",
      " |  ----------------------------------------------------------------------\n",
      " |  Class methods defined here:\n",
      " |  \n",
      " |  __class_getitem__(...) from builtins.type\n",
      " |      See PEP 585\n",
      " |  \n",
      " |  ----------------------------------------------------------------------\n",
      " |  Static methods defined here:\n",
      " |  \n",
      " |  __new__(*args, **kwargs) from builtins.type\n",
      " |      Create and return a new object.  See help(type) for accurate signature.\n",
      "\n"
     ]
    }
   ],
   "source": [
    "help(t)"
   ]
  },
  {
   "cell_type": "code",
   "execution_count": null,
   "id": "d6fcc1cd",
   "metadata": {},
   "outputs": [],
   "source": []
  }
 ],
 "metadata": {
  "kernelspec": {
   "display_name": "Python 3 (ipykernel)",
   "language": "python",
   "name": "python3"
  },
  "language_info": {
   "codemirror_mode": {
    "name": "ipython",
    "version": 3
   },
   "file_extension": ".py",
   "mimetype": "text/x-python",
   "name": "python",
   "nbconvert_exporter": "python",
   "pygments_lexer": "ipython3",
   "version": "3.11.4"
  }
 },
 "nbformat": 4,
 "nbformat_minor": 5
}
