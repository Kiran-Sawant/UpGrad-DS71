{
 "cells": [
  {
   "cell_type": "markdown",
   "id": "c46bdb45",
   "metadata": {},
   "source": [
    "# Dictionaries\n",
    "\n",
    "-  In python, a dictionary is something called as a **mapping object**.\n",
    "-  Each individual value in a dictionary has a 'key' which **has to be unique** and an **immutable** object like a string or an integer/float.\n",
    "-  The keys and values are separated by a colon and the individual key-value pairs are separated by a comma ','.\n",
    "-  Dictionaries are **unordered and mutable**, therefore they cannot be indexed like sequences but can be called using the key for a value.\n",
    "-  Dictionaries are enclosed inside of curly braces and **keys are case sensitive**."
   ]
  },
  {
   "cell_type": "markdown",
   "id": "ae41a1e7",
   "metadata": {},
   "source": [
    "## Declaring Dictionaries\n",
    "\n",
    "Dictionaries can be declared using a dictionary literal, the `dict()` constructor or using the `zip()` method inside of a `dict()` constructor."
   ]
  },
  {
   "cell_type": "code",
   "execution_count": null,
   "id": "11ffb4c9",
   "metadata": {},
   "outputs": [
    {
     "data": {
      "text/plain": [
       "{'India': 'INR', 'USA': 'USD', 'France': 'EUR'}"
      ]
     },
     "execution_count": 21,
     "metadata": {},
     "output_type": "execute_result"
    }
   ],
   "source": [
    "d = {'India':'INR', 'USA':'USD', 'France':'EUR'}         # A dictionary literal\n",
    "d"
   ]
  },
  {
   "cell_type": "markdown",
   "id": "cc73d332",
   "metadata": {},
   "source": [
    "### `dict()` constructor method\n",
    "\n",
    "One can declare a dictionary using the `dict()` constructur.<br>The condition for doing so is to pass key-value pairs separated by commas, where the value is expressed as its datatype and the key is declared as a variable."
   ]
  },
  {
   "cell_type": "code",
   "execution_count": null,
   "id": "615a7c73",
   "metadata": {},
   "outputs": [
    {
     "data": {
      "text/plain": [
       "{'Sweden': 'SKE', 'Sweitzerland': 'SFK', 'UK': 'GBP'}"
      ]
     },
     "execution_count": 22,
     "metadata": {},
     "output_type": "execute_result"
    }
   ],
   "source": [
    "# Here, the keys are represented as is. Unlike dictionary literal where they are represented as strings.\n",
    "d2 = dict(Sweden='SEK', Sweitzerland='CHF', UK='GBP')\n",
    "d2"
   ]
  },
  {
   "cell_type": "code",
   "execution_count": 3,
   "id": "d53e18db",
   "metadata": {},
   "outputs": [
    {
     "name": "stdout",
     "output_type": "stream",
     "text": [
      "INR USD\n"
     ]
    }
   ],
   "source": [
    "# Printing values by calling their keys.\n",
    "\n",
    "print(d['India'], d['USA'])"
   ]
  },
  {
   "cell_type": "code",
   "execution_count": 4,
   "id": "0a03710e",
   "metadata": {},
   "outputs": [
    {
     "data": {
      "text/plain": [
       "{'India': 'INR', 'USA': '$', 'France': 'EUR'}"
      ]
     },
     "execution_count": 4,
     "metadata": {},
     "output_type": "execute_result"
    }
   ],
   "source": [
    "# Changing a value by calling its key i.e. testing mutability\n",
    "\n",
    "d['USA'] = '$'\n",
    "d"
   ]
  },
  {
   "cell_type": "code",
   "execution_count": 19,
   "id": "9f3970aa",
   "metadata": {},
   "outputs": [
    {
     "data": {
      "text/plain": [
       "{'India': 'Rupee', 'USA': '$', 'Japan': 'Yen'}"
      ]
     },
     "execution_count": 19,
     "metadata": {},
     "output_type": "execute_result"
    }
   ],
   "source": [
    "# Changing a value using the .update() method i.e. testing mutability\n",
    "\n",
    "d.update({'India':'Rupee'})\n",
    "d"
   ]
  },
  {
   "cell_type": "code",
   "execution_count": 6,
   "id": "573df8c2",
   "metadata": {},
   "outputs": [
    {
     "data": {
      "text/plain": [
       "{'India': 'INR', 'USA': '$', 'France': 'EUR', 'Japan': 'Yen'}"
      ]
     },
     "execution_count": 6,
     "metadata": {},
     "output_type": "execute_result"
    }
   ],
   "source": [
    "# If a key-value does not exist inside of a dictionary, it will create one based on the expression\n",
    "# Here, the expression will create a key-value pair of 'Japan':'Yen' in d\n",
    "\n",
    "d['Japan'] = 'Yen'\n",
    "d"
   ]
  },
  {
   "cell_type": "code",
   "execution_count": 7,
   "id": "d79fb228",
   "metadata": {},
   "outputs": [
    {
     "data": {
      "text/plain": [
       "{'India': 'INR', 'USA': '$', 'Japan': 'Yen'}"
      ]
     },
     "execution_count": 7,
     "metadata": {},
     "output_type": "execute_result"
    }
   ],
   "source": [
    "# removing a key-value from a dictionary.\n",
    "# Performing the del command on a key will delete both key and value.\n",
    "\n",
    "del d['France']\n",
    "d"
   ]
  },
  {
   "cell_type": "code",
   "execution_count": 8,
   "id": "c6c7fdaa",
   "metadata": {},
   "outputs": [
    {
     "data": {
      "text/plain": [
       "['India', 'Japan', 'USA']"
      ]
     },
     "execution_count": 8,
     "metadata": {},
     "output_type": "execute_result"
    }
   ],
   "source": [
    "# Sorting a dictionary based on the keys in the dictionary.\n",
    "\n",
    "sorted(d)"
   ]
  },
  {
   "cell_type": "code",
   "execution_count": 13,
   "id": "e89ad8d2",
   "metadata": {},
   "outputs": [
    {
     "data": {
      "text/plain": [
       "dict_values(['INR', '$', 'Yen'])"
      ]
     },
     "execution_count": 13,
     "metadata": {},
     "output_type": "execute_result"
    }
   ],
   "source": [
    "# Extracting all the values in a dictionary\n",
    "# This returns an iterable dict_values() object(not exactly a list).\n",
    "\n",
    "d.values()"
   ]
  },
  {
   "cell_type": "code",
   "execution_count": 14,
   "id": "d4c6c839",
   "metadata": {},
   "outputs": [
    {
     "data": {
      "text/plain": [
       "dict_keys(['India', 'USA', 'Japan'])"
      ]
     },
     "execution_count": 14,
     "metadata": {},
     "output_type": "execute_result"
    }
   ],
   "source": [
    "# Extracting all the keys in a dictionary\n",
    "# This returns an iterable dict_keys() object(not exactly a list).\n",
    "\n",
    "d.keys()"
   ]
  },
  {
   "cell_type": "markdown",
   "id": "9dd0a411",
   "metadata": {},
   "source": [
    "## Empty Dictionary\n",
    "\n",
    "You can declare an empty dictionary using curley braces `{}` or the `dict()` literal."
   ]
  },
  {
   "cell_type": "code",
   "execution_count": 20,
   "id": "06a1e074",
   "metadata": {},
   "outputs": [
    {
     "data": {
      "text/plain": [
       "dict"
      ]
     },
     "execution_count": 20,
     "metadata": {},
     "output_type": "execute_result"
    }
   ],
   "source": [
    "k = {}\n",
    "type(k)"
   ]
  },
  {
   "cell_type": "code",
   "execution_count": null,
   "id": "a761f280",
   "metadata": {},
   "outputs": [],
   "source": []
  }
 ],
 "metadata": {
  "kernelspec": {
   "display_name": "Python 3 (ipykernel)",
   "language": "python",
   "name": "python3"
  },
  "language_info": {
   "codemirror_mode": {
    "name": "ipython",
    "version": 3
   },
   "file_extension": ".py",
   "mimetype": "text/x-python",
   "name": "python",
   "nbconvert_exporter": "python",
   "pygments_lexer": "ipython3",
   "version": "3.11.4"
  }
 },
 "nbformat": 4,
 "nbformat_minor": 5
}
