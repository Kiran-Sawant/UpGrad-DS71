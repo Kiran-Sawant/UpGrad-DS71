{
 "cells": [
  {
   "cell_type": "markdown",
   "id": "a225af9f",
   "metadata": {},
   "source": [
    "# Sets\n",
    "\n",
    "-  A set in Python is very similar to [sets](https://www.cuemath.com/algebra/sets/) in mathametics.<br>\n",
    "-  It is an **unordered** sequence where each value inside the set **must be unique**.\n",
    "-  A python Set is **mutable** in nature. However, a set cannot contain mutable data types like lists or dictionaries as its elements.<br>\n",
    "-  Sets are defined as unique values separated by commas and **enclosed inside of curly braces**.\n",
    "-  As sets are unordered, they **cannot be indexed** or sliced."
   ]
  },
  {
   "cell_type": "code",
   "execution_count": 5,
   "id": "005cdf4a",
   "metadata": {},
   "outputs": [
    {
     "name": "stdout",
     "output_type": "stream",
     "text": [
      "{1, 2, 3, 4, 5, 6, 7, 8, 9, 10}\n"
     ]
    }
   ],
   "source": [
    "sample_set = {1, 2, 3, 4, 5, 6, 7, 8, 9, 10}      # Set literal\n",
    "\n",
    "print(sample_set)"
   ]
  },
  {
   "cell_type": "markdown",
   "id": "125bc410",
   "metadata": {},
   "source": [
    "# `set()` constructor\n",
    "\n",
    "-  The `set()` constructor can take an iterable as argument and return a set.\n",
    "-  If there are repeating values inside of the iterable, it will be removed and only one occurance of that value will be included in the set.\n",
    "-  Sets are sorted by default.\n",
    "-  To create an empty set, you can make use of `set()` constructor only."
   ]
  },
  {
   "cell_type": "code",
   "execution_count": null,
   "id": "886eef88",
   "metadata": {},
   "outputs": [
    {
     "name": "stdout",
     "output_type": "stream",
     "text": [
      "<class 'list'>\n",
      "{2, 3, 4, 5, 6, 8, 11, 15}\n"
     ]
    }
   ],
   "source": [
    "l = [2, 3, 5, 6, 8, 8, 4, 3, 15, 11, 2]     # Declaring a list\n",
    "print(type(l))                              # printing its type\n",
    "\n",
    "set_1 = set(l)                              # declaring a set using set() constructor\n",
    "print(set_1)                                # printing the set"
   ]
  },
  {
   "cell_type": "code",
   "execution_count": null,
   "id": "6056a855",
   "metadata": {},
   "outputs": [],
   "source": [
    "# Creating an empty set.\n",
    "set_2 = set()"
   ]
  },
  {
   "cell_type": "code",
   "execution_count": 10,
   "id": "f60107f5",
   "metadata": {},
   "outputs": [
    {
     "data": {
      "text/plain": [
       "{11, 15, 2, 3, 4, 5, 6, 8, 'Australia'}"
      ]
     },
     "execution_count": 10,
     "metadata": {},
     "output_type": "execute_result"
    }
   ],
   "source": [
    "# Adding a value in a set\n",
    "\n",
    "set_1.add('Australia')\n",
    "set_1"
   ]
  },
  {
   "cell_type": "code",
   "execution_count": 11,
   "id": "e61fcb3b",
   "metadata": {},
   "outputs": [
    {
     "data": {
      "text/plain": [
       "{2, 3, 4, 5, 6, 8, 11, 15}"
      ]
     },
     "execution_count": 11,
     "metadata": {},
     "output_type": "execute_result"
    }
   ],
   "source": [
    "# Removing a value in a set\n",
    "\n",
    "set_1.remove('Australia')\n",
    "set_1"
   ]
  },
  {
   "cell_type": "markdown",
   "id": "4b19fb03",
   "metadata": {},
   "source": [
    "# Methods of Sets"
   ]
  },
  {
   "cell_type": "code",
   "execution_count": 12,
   "id": "82f17357",
   "metadata": {},
   "outputs": [
    {
     "name": "stdout",
     "output_type": "stream",
     "text": [
      "{0, 2, 4, 6, 8} {1, 2, 3, 4, 5}\n"
     ]
    }
   ],
   "source": [
    "a = {0, 2, 4, 6, 8}\n",
    "b = {1, 2, 3, 4, 5}\n",
    "\n",
    "print(a, b) "
   ]
  },
  {
   "cell_type": "markdown",
   "id": "d11d6cda",
   "metadata": {},
   "source": [
    "### 1. Union\n",
    "\n",
    "Combination of values in both sets"
   ]
  },
  {
   "cell_type": "code",
   "execution_count": 13,
   "id": "f8e264ff",
   "metadata": {},
   "outputs": [
    {
     "name": "stdout",
     "output_type": "stream",
     "text": [
      "{0, 1, 2, 3, 4, 5, 6, 8}\n",
      "{0, 1, 2, 3, 4, 5, 6, 8}\n"
     ]
    }
   ],
   "source": [
    "print(a | b)\n",
    "print(a.union(b))"
   ]
  },
  {
   "cell_type": "markdown",
   "id": "70ec4801",
   "metadata": {},
   "source": [
    "### 2. Intersection\n",
    "\n",
    "Values that are common in both a and b"
   ]
  },
  {
   "cell_type": "code",
   "execution_count": 15,
   "id": "75c12eef",
   "metadata": {},
   "outputs": [
    {
     "name": "stdout",
     "output_type": "stream",
     "text": [
      "{2, 4}\n",
      "{2, 4}\n"
     ]
    }
   ],
   "source": [
    "print(a & b)\n",
    "print(a.intersection(b))"
   ]
  },
  {
   "cell_type": "markdown",
   "id": "51933959",
   "metadata": {},
   "source": [
    "### 3. Difference\n",
    "\n",
    "Remove values in a that are in b, and return remaining values in a"
   ]
  },
  {
   "cell_type": "code",
   "execution_count": 17,
   "id": "131df4ff",
   "metadata": {},
   "outputs": [
    {
     "name": "stdout",
     "output_type": "stream",
     "text": [
      "{0, 8, 6}\n",
      "{0, 8, 6}\n"
     ]
    }
   ],
   "source": [
    "print(a - b)\n",
    "print(a.difference(b))"
   ]
  },
  {
   "cell_type": "markdown",
   "id": "fc07f81d",
   "metadata": {},
   "source": [
    "### 4. Symmetric Difference\n",
    "\n",
    "Items mutually exclusive to A anb B<br>\n",
    "i.e. (a | b) - (a & b)"
   ]
  },
  {
   "cell_type": "code",
   "execution_count": 21,
   "id": "b7b75c06",
   "metadata": {},
   "outputs": [
    {
     "name": "stdout",
     "output_type": "stream",
     "text": [
      "{0, 1, 3, 5, 6, 8}\n",
      "{0, 1, 3, 5, 6, 8}\n"
     ]
    }
   ],
   "source": [
    "print(a ^ b)\n",
    "print(a.symmetric_difference(b))"
   ]
  },
  {
   "cell_type": "markdown",
   "id": "314982d6",
   "metadata": {},
   "source": [
    "# Frozen Set\n",
    "\n",
    "-  A frozen set is an immutable set.\n",
    "-  It can be created using the frozenset() builtin method."
   ]
  },
  {
   "cell_type": "code",
   "execution_count": 23,
   "id": "520d9325",
   "metadata": {},
   "outputs": [
    {
     "name": "stdout",
     "output_type": "stream",
     "text": [
      "frozenset({0, 2, 4, 6, 8, 10, 12, 14, 16, 18, 20, 22, 24, 26, 28, 30, 32, 34, 36, 38, 40, 42, 44, 46, 48, 50, 52, 54, 56, 58, 60, 62, 64, 66, 68, 70, 72, 74, 76, 78, 80, 82, 84, 86, 88, 90, 92, 94, 96, 98, 100})\n"
     ]
    }
   ],
   "source": [
    "even100 = frozenset(range(0, 101, 2))\n",
    "print(even100)"
   ]
  },
  {
   "cell_type": "code",
   "execution_count": 24,
   "id": "6394e0a8",
   "metadata": {},
   "outputs": [
    {
     "ename": "AttributeError",
     "evalue": "'frozenset' object has no attribute 'add'",
     "output_type": "error",
     "traceback": [
      "\u001b[1;31m---------------------------------------------------------------------------\u001b[0m",
      "\u001b[1;31mAttributeError\u001b[0m                            Traceback (most recent call last)",
      "Cell \u001b[1;32mIn[24], line 1\u001b[0m\n\u001b[1;32m----> 1\u001b[0m \u001b[43meven100\u001b[49m\u001b[38;5;241;43m.\u001b[39;49m\u001b[43madd\u001b[49m(\u001b[38;5;241m102\u001b[39m)\n",
      "\u001b[1;31mAttributeError\u001b[0m: 'frozenset' object has no attribute 'add'"
     ]
    }
   ],
   "source": [
    "# Trying to add a value to a frozenset\n",
    "\n",
    "even100.add(102)"
   ]
  }
 ],
 "metadata": {
  "kernelspec": {
   "display_name": "Python 3 (ipykernel)",
   "language": "python",
   "name": "python3"
  },
  "language_info": {
   "codemirror_mode": {
    "name": "ipython",
    "version": 3
   },
   "file_extension": ".py",
   "mimetype": "text/x-python",
   "name": "python",
   "nbconvert_exporter": "python",
   "pygments_lexer": "ipython3",
   "version": "3.11.4"
  }
 },
 "nbformat": 4,
 "nbformat_minor": 5
}
