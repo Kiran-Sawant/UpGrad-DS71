{
 "cells": [
  {
   "cell_type": "markdown",
   "id": "a5cfb818",
   "metadata": {},
   "source": [
    "# Python objects and their types\n",
    "\n",
    "Python is an object oriented programming language. Therefore, everythin in python is an instance of a pre-defined object. <br>Objects are essentially pieces of memory with values and a set of operations associated with it.\n",
    "\n",
    "In Python there is a conceptual hirarchy of programs\n",
    "1.  Programs are composed of modules.\n",
    "2.  Modules contain statements.\n",
    "3.  Statements contain expression.\n",
    "4.  Expressions create and process objects."
   ]
  },
  {
   "cell_type": "markdown",
   "id": "ab84d2a2",
   "metadata": {},
   "source": [
    "# Built-in datatypes\n",
    "\n",
    "A code consists of data and logic elements. Data in python can be represented in many ways. Different python packages can define their own data types built on top of other more premitive datatypes. However, at its very core, Python has a set of well defined data types called buil-in datatypes.\n",
    "\n",
    "These built-in Data types include:\n",
    "1.  Integer\n",
    "2.  Float\n",
    "3.  String\n",
    "4.  Boolean\n",
    "5.  Range\n",
    "6.  Files"
   ]
  },
  {
   "cell_type": "markdown",
   "id": "3a93201e",
   "metadata": {},
   "source": [
    "# Numbers in Python\n",
    "\n",
    "Numbers in Python can be integers, floats, decimals, fractions and complex numbers. Integers, floats and complex can be defined directly others require importing built-in modules.\n",
    "\n",
    "__Integers in Python.__ \n",
    "\n",
    "Below is an example of an integer. It is assigned to a variable 'k'. k is an address in memory where it will store whatever value that is being assigned to it using the assignment '=' operator.<br>Usually, variables that have a fixed value assigned to them in the code are called literalls. Where else a variable who's value is not defined in the code itself but rather depends on external factors such as a user input or API response are called as variables."
   ]
  },
  {
   "cell_type": "code",
   "execution_count": 5,
   "id": "43a4ecab",
   "metadata": {},
   "outputs": [
    {
     "name": "stdout",
     "output_type": "stream",
     "text": [
      "458\n"
     ]
    }
   ],
   "source": [
    "k = 458\n",
    "print(k)"
   ]
  },
  {
   "cell_type": "markdown",
   "id": "c6c840f5",
   "metadata": {},
   "source": [
    "__Floating point numbers or a float in Python.__\n",
    "\n",
    "In programming a floating point number is a positive or a negative number with a decimal point in between.<br>\n",
    "Floating point numbers get their name from the way the decimal point can 'float' to any position necessary."
   ]
  },
  {
   "cell_type": "code",
   "execution_count": 16,
   "id": "71e15169",
   "metadata": {},
   "outputs": [
    {
     "name": "stdout",
     "output_type": "stream",
     "text": [
      "flo = 5.445\n",
      "Data type of 5.445 is <class 'float'>\n"
     ]
    }
   ],
   "source": [
    "flo = 5.445                                      # declarign a floating point number\n",
    "print(f\"flo = {flo}\")                            # printing flo\n",
    "print(f\"Data type of {flo} is {type(flo)}\")      # printing flo and its type"
   ]
  },
  {
   "cell_type": "markdown",
   "id": "61454838",
   "metadata": {},
   "source": [
    "__Comlpex numbers in Python.__\n",
    "\n",
    "In mathematics, a complex number consists of a real part and an imaginary part. For example in '3 + 4i' the number 3 is the real part where else 4i is the imaginary part where 4i = 4 * i. i is known as iota which has a value of $\\sqrt{-1}$<br><br>\n",
    "Python's builtin complex function allows users to declare complex numbers. The complex() function accepts only two arguments. First the real part and another imaginary part. In Python i is replaced by j.<br>\n",
    "In the example below 2 is the real part and 4 will be the imaginary number."
   ]
  },
  {
   "cell_type": "code",
   "execution_count": 9,
   "id": "f992b291",
   "metadata": {},
   "outputs": [
    {
     "name": "stdout",
     "output_type": "stream",
     "text": [
      "comp = (2+4j)\n",
      "Data type of (2+4j) is <class 'complex'>\n"
     ]
    }
   ],
   "source": [
    "comp = complex(2, 4)\n",
    "print(f\"comp = {comp}\")                            # printing comp\n",
    "print(f\"Data type of {comp} is {type(comp)}\")      # printing comp and its type"
   ]
  },
  {
   "cell_type": "markdown",
   "id": "9cb84e81",
   "metadata": {},
   "source": [
    "__Decimals in Python__\n",
    "\n",
    "In Python, decimals are floating point numbers but with fixed precision. A common problem with carrying out mathematical operations with floats is that they do not give consistant outputs for the exact same expressions. Especially when the results are ought to be precise within a very minute range.<br><br>\n",
    "Therefore, we make use of the decimal module where ever there is a chance of floating point operations taking place."
   ]
  },
  {
   "cell_type": "code",
   "execution_count": 18,
   "id": "366dcb78",
   "metadata": {},
   "outputs": [
    {
     "name": "stdout",
     "output_type": "stream",
     "text": [
      "k = 1.000000088888\n",
      "f = 7\n",
      "locally k/f = 0.14\n",
      "Globally k/f = 0.1429\n"
     ]
    }
   ],
   "source": [
    "import decimal as dc\n",
    "\n",
    "dc.getcontext().prec = 4                          # setting the decimal precision globally\n",
    "k = dc.Decimal('1.000000088888')                  # decimal literal\n",
    "f = dc.Decimal('7')\n",
    "print(f\"k = {k}\")\n",
    "print(f\"f = {f}\")\n",
    "with dc.localcontext() as ctx:                    # creating a local context manager as ctx\n",
    "    ctx.prec = 2                                  # setting local context precision of 2 decimal places\n",
    "    print(f\"locally k/f = {k/f}\")                 # answer with local context pricision\n",
    "\n",
    "print(f\"Globally k/f = {k/f}\")                    # answer with global context pricision"
   ]
  },
  {
   "cell_type": "markdown",
   "id": "9a01dc51",
   "metadata": {},
   "source": [
    "__Fractions in Python__\n",
    "\n",
    "In Python, fractional numbers can be declared using the Fraction class in the fractions module.<br>Fraction accepts two arguments, a numerator and a denominator. Once entered, both are automatically converted to their \"Greatest Common Divisor\" (GCD).<br> Do note that you can pass only rational numbers(no floats) as arguments to Fraction if yoiu are providing both numerator and denominator."
   ]
  },
  {
   "cell_type": "code",
   "execution_count": 21,
   "id": "7584c505",
   "metadata": {},
   "outputs": [
    {
     "name": "stdout",
     "output_type": "stream",
     "text": [
      "x =  1/7\n",
      "y =  1/4\n",
      "z =  1429/10000\n"
     ]
    }
   ],
   "source": [
    "import fractions as fr\n",
    "\n",
    "x = fr.Fraction(1, 7)         # Declaring Fraction by passing numerator and denominator\n",
    "y = fr.Fraction(0.25)         # converting a float to fraction\n",
    "z = fr.Fraction(k/f)          # converting a decimal to fraction\n",
    "\n",
    "print(\"x = \", x)\n",
    "print(\"y = \", y)\n",
    "print(\"z = \", z)              # numbers are automatically simplified to GCD ie. 4/6 ~ 2/3"
   ]
  },
  {
   "cell_type": "markdown",
   "id": "c5e2afcd",
   "metadata": {},
   "source": [
    "# Strings in Python\n",
    "\n",
    "In Python, Strings are used to record textual information. Anything that is entered in between \"\" is a string. You can make use of \"\", '' or \"\"\"\"\"\" quotes to declare a string. They are an example of what we call in Python a ___Sequence___ i.e. a positionally ordered collection of other objects.<br><br>\n",
    "### Declaring a String\n",
    "\n",
    "In the example below, both string_1 and 2 are declared using different quatiotation marks to accomodate low level quotes in them."
   ]
  },
  {
   "cell_type": "code",
   "execution_count": 23,
   "id": "07ccf1ec",
   "metadata": {},
   "outputs": [
    {
     "name": "stdout",
     "output_type": "stream",
     "text": [
      "String 1:  Hello there! How are you?\n",
      "String 2:  Have you heard the song 'Amnesia' by Timbalake?\n"
     ]
    }
   ],
   "source": [
    "string_1 = 'Hello there! How are you?'\n",
    "string_2 = \"Have you heard the song 'Amnesia' by Timbalake?\"\n",
    "\n",
    "print(\"String 1: \", string_1)\n",
    "print('String 2: ', string_2)"
   ]
  },
  {
   "cell_type": "markdown",
   "id": "21b8ba41",
   "metadata": {},
   "source": [
    "# Range\n",
    "\n",
    "range() is an iterable object that has a start, end and step parameters. It is not a list but can be used to create a list using list comprehensions.<br>\n",
    "range() is a kind of function that are refered as generators in Python. Generators are used to return a single value out of a set of value, one at a time.<br>"
   ]
  },
  {
   "cell_type": "code",
   "execution_count": 31,
   "id": "8ab8aa27",
   "metadata": {},
   "outputs": [
    {
     "name": "stdout",
     "output_type": "stream",
     "text": [
      "range(1, 21, 2)\n",
      "k is of type <class 'range'>\n",
      "\n",
      "1\n",
      "3\n",
      "5\n",
      "7\n",
      "9\n",
      "11\n",
      "13\n",
      "15\n",
      "17\n",
      "19\n"
     ]
    }
   ],
   "source": [
    "k = range(1, 21, 2)\n",
    "\n",
    "print(k)                                 # printing k\n",
    "print(f\"k is of type {type(k)}\\n\")       # printing type of k\n",
    "\n",
    "for i in k:\n",
    "    print(i)"
   ]
  },
  {
   "cell_type": "code",
   "execution_count": null,
   "id": "3fa2f478",
   "metadata": {},
   "outputs": [],
   "source": []
  }
 ],
 "metadata": {
  "kernelspec": {
   "display_name": "Python 3 (ipykernel)",
   "language": "python",
   "name": "python3"
  },
  "language_info": {
   "codemirror_mode": {
    "name": "ipython",
    "version": 3
   },
   "file_extension": ".py",
   "mimetype": "text/x-python",
   "name": "python",
   "nbconvert_exporter": "python",
   "pygments_lexer": "ipython3",
   "version": "3.11.4"
  }
 },
 "nbformat": 4,
 "nbformat_minor": 5
}
