{
 "cells": [
  {
   "cell_type": "markdown",
   "id": "851dd8f0",
   "metadata": {},
   "source": [
    "### Escape characters\n",
    "\n",
    "As various symbols in Python programming have different functionality compared to the English language, we cannot make direct use of them in our code.<br> For example, in the code below, the ' quotation mark ends the sentence after n because the interpreter considers it as an end of the string."
   ]
  },
  {
   "cell_type": "code",
   "execution_count": 1,
   "id": "b70be9d3",
   "metadata": {},
   "outputs": [
    {
     "ename": "SyntaxError",
     "evalue": "unterminated string literal (detected at line 1) (512477971.py, line 1)",
     "output_type": "error",
     "traceback": [
      "\u001b[1;36m  Cell \u001b[1;32mIn[1], line 1\u001b[1;36m\u001b[0m\n\u001b[1;33m    print('I didn't know')\u001b[0m\n\u001b[1;37m                        ^\u001b[0m\n\u001b[1;31mSyntaxError\u001b[0m\u001b[1;31m:\u001b[0m unterminated string literal (detected at line 1)\n"
     ]
    }
   ],
   "source": [
    "print('I didn't know')"
   ]
  },
  {
   "cell_type": "markdown",
   "id": "8b0bd53f",
   "metadata": {},
   "source": [
    " To avoid this error we can make use of backslash \\. Any character after the backslash is ignored by the interpreter."
   ]
  },
  {
   "cell_type": "code",
   "execution_count": 3,
   "id": "a99b3fb2",
   "metadata": {},
   "outputs": [
    {
     "name": "stdout",
     "output_type": "stream",
     "text": [
      "I didn't know\n"
     ]
    }
   ],
   "source": [
    "print('I didn\\'t know')"
   ]
  },
  {
   "cell_type": "markdown",
   "id": "be575c77",
   "metadata": {},
   "source": [
    "### New line and tab\n",
    "\n",
    "To start a segment of a string on a new line we simply make use of \\n at the point where we want the new line to begin.\n",
    "\n",
    "\\t puts a tab(8 whitespaces) in between two characters"
   ]
  },
  {
   "cell_type": "code",
   "execution_count": 14,
   "id": "367cb4b5",
   "metadata": {},
   "outputs": [
    {
     "name": "stdout",
     "output_type": "stream",
     "text": [
      "Hello Bob!\n",
      "How are you?\n",
      "We have a\t tab in between\n"
     ]
    }
   ],
   "source": [
    "#_____Incorrect way of new line______#\n",
    "#print('Hello Bob!\n",
    "#      How are you')\n",
    "\n",
    "#______Correct way of new line_______#\n",
    "print('Hello Bob!\\nHow are you?')\n",
    "\n",
    "\n",
    "print(\"We have a\\t tab in between\")"
   ]
  },
  {
   "cell_type": "markdown",
   "id": "9bb6b26b",
   "metadata": {},
   "source": [
    "### Taking user Input\n",
    "\n",
    "One can make use of the built-in input() method to take user input from the console. input() takes a string as an argument which it displays on the console for the user to read.<br>input() returns a string by default regardless of what the user has inserted i.e. if a user has inserted a number, it will be returned as a string."
   ]
  },
  {
   "cell_type": "code",
   "execution_count": 11,
   "id": "65e3fb6c",
   "metadata": {},
   "outputs": [
    {
     "name": "stdout",
     "output_type": "stream",
     "text": [
      "What flavour would you like? Vanilla\n",
      "What type of desert do you like? Ice creme\n"
     ]
    }
   ],
   "source": [
    "flavour = input(\"What flavour would you like? \")\n",
    "dessert = input(\"What type of desert do you like? \")"
   ]
  },
  {
   "cell_type": "code",
   "execution_count": 13,
   "id": "207011bb",
   "metadata": {},
   "outputs": [
    {
     "name": "stdout",
     "output_type": "stream",
     "text": [
      "You like Vanilla Ice creme\n"
     ]
    }
   ],
   "source": [
    "print(f\"You like {flavour} {dessert}\")"
   ]
  },
  {
   "cell_type": "markdown",
   "id": "c3eee6e4",
   "metadata": {},
   "source": [
    "### Concatination\n",
    "\n",
    "The plus + operator is used to concatinate(join) strings."
   ]
  },
  {
   "cell_type": "code",
   "execution_count": 16,
   "id": "bc034b8c",
   "metadata": {},
   "outputs": [
    {
     "name": "stdout",
     "output_type": "stream",
     "text": [
      "JaguarLand Rover\n",
      "Jaguar Land Rover\n"
     ]
    }
   ],
   "source": [
    "k = \"Jaguar\"\n",
    "j = \"Land Rover\"\n",
    "\n",
    "print(k + j)\n",
    "print(k + \" \" + j)"
   ]
  },
  {
   "cell_type": "markdown",
   "id": "bbdf1b04",
   "metadata": {},
   "source": [
    "### Indexing In strings\n",
    "\n",
    "As mentioned previously, strings are a class of datatypes called sequence i.e. a positionally ordered collection of other objects. Therefore, if each character in a string is positionally ordered we can retrieve tht character by calling its index. An index of a character is its position on the string from the start or end points depending on the languages convention.\n",
    "-  In Python Index starts from 0. Therefore any character you want to access will be at i - 1\n",
    "-  Negative index starts from -1\n",
    "-  Indexes are represented inside of a square bracket"
   ]
  },
  {
   "cell_type": "code",
   "execution_count": 22,
   "id": "41814693",
   "metadata": {},
   "outputs": [
    {
     "data": {
      "text/plain": [
       "78"
      ]
     },
     "execution_count": 22,
     "metadata": {},
     "output_type": "execute_result"
    }
   ],
   "source": [
    "string = \"I have not failed. I've just found 10,000 ways that won't work - Thomas Edison\"\n",
    "\n",
    "# len() returns the number of characters in a sequence datatype startng from 1\n",
    "len(string)"
   ]
  },
  {
   "cell_type": "code",
   "execution_count": 23,
   "id": "47e8261a",
   "metadata": {},
   "outputs": [
    {
     "name": "stdout",
     "output_type": "stream",
     "text": [
      "I\n",
      "e\n",
      "n\n",
      "n\n"
     ]
    }
   ],
   "source": [
    "print(string[0])       # Accessing first character\n",
    "print(string[5])       # Accessing sixth character\n",
    "print(string[77])      # Accessing the last character\n",
    "print(string[-1])      # Another way of accessing the last character"
   ]
  },
  {
   "cell_type": "markdown",
   "id": "ed9e3176",
   "metadata": {},
   "source": [
    "### String Slicing\n",
    "\n",
    "A slicing operation is carried out using a pair of brackets with three parameters separated by a colon e.g. [x:y:z]. Here, x represents starting position, y end position and z represents the step.<br> Do note that end position is exclusive i.e. if you enter index 6 python will end slicing at 5.<br>Step represents the number of character it skips, if you enter 2 the interpretor will skip 1 character and pick the second character in the sequence.\n",
    "\n",
    "-  string[start:end:step]"
   ]
  },
  {
   "cell_type": "code",
   "execution_count": 54,
   "id": "05e55e30",
   "metadata": {},
   "outputs": [
    {
     "name": "stdout",
     "output_type": "stream",
     "text": [
      "I have n\n"
     ]
    }
   ],
   "source": [
    "# Slicing by specifying start and end index.\n",
    "\n",
    "statement = \"I have not failed. I've just found 10,000 ways that won't work - Thomas Edison\"\n",
    "\n",
    "sliced_statement = statement[0:8]\n",
    "print(sliced_statement)"
   ]
  },
  {
   "cell_type": "code",
   "execution_count": 26,
   "id": "cc280ff1",
   "metadata": {},
   "outputs": [
    {
     "name": "stdout",
     "output_type": "stream",
     "text": [
      "3 girls in a class\n",
      "5 boys \n"
     ]
    }
   ],
   "source": [
    "batch = \"5 boys 3 girls in a class\"\n",
    "\n",
    "girls = batch[7:]              # Slicing from 7th index to end\n",
    "boys = batch[:7]               # slicing from start to 6th index\n",
    "\n",
    "print(girls)\n",
    "print(boys)"
   ]
  },
  {
   "cell_type": "markdown",
   "id": "52f49b0a",
   "metadata": {},
   "source": [
    "### Membership\n",
    "\n",
    "Membership is used to check if an element is present inside of a sequence datatype or not. We use the 'in' keyword to check membership. This operation will always return a boolean"
   ]
  },
  {
   "cell_type": "code",
   "execution_count": 27,
   "id": "de8483fc",
   "metadata": {},
   "outputs": [
    {
     "name": "stdout",
     "output_type": "stream",
     "text": [
      "False\n",
      "True\n"
     ]
    }
   ],
   "source": [
    "sent = \"I love cars made by Jaguar\"\n",
    "\n",
    "print('Ford' in sent)\n",
    "print('love' in sent)"
   ]
  },
  {
   "cell_type": "code",
   "execution_count": 28,
   "id": "86dc13fc",
   "metadata": {},
   "outputs": [
    {
     "name": "stdout",
     "output_type": "stream",
     "text": [
      "Python\n"
     ]
    }
   ],
   "source": [
    "string = \"I love Python!\"\n",
    "\n",
    "print(string[7:13])"
   ]
  },
  {
   "cell_type": "code",
   "execution_count": 29,
   "id": "76d6c47f",
   "metadata": {},
   "outputs": [
    {
     "data": {
      "text/plain": [
       "'I love Python!I love Python!'"
      ]
     },
     "execution_count": 29,
     "metadata": {},
     "output_type": "execute_result"
    }
   ],
   "source": [
    "string * 2"
   ]
  },
  {
   "cell_type": "markdown",
   "id": "658d3873",
   "metadata": {},
   "source": [
    "### String Methods\n",
    "\n",
    "-  upper()      # Converts all string characters to uppercase.\n",
    "-  lower()      # Converts all string characters to lowercase.\n",
    "-  strip()      # Used to strip passed arguments from start and end of the string, strips spaces by default.\n",
    "-  count()      # Returns the occurance of passed string in applied string.\n",
    "-  rstrip()     # Used to strip passed arguments from end of the string, strips spaces by default.\n",
    "-  lstrip()     # Used to strip passed arguments from start of the string, strips spaces by default."
   ]
  },
  {
   "cell_type": "code",
   "execution_count": 37,
   "id": "2c1f5844",
   "metadata": {},
   "outputs": [
    {
     "name": "stdout",
     "output_type": "stream",
     "text": [
      "  KILLER BEAN FOREVER IS THE BEST MOVIE EVER! !!\n",
      "  killer bean forever is the best movie ever! !!\n"
     ]
    }
   ],
   "source": [
    "string_1 = \"  Killer bean forever is the best movie ever! !!\"\n",
    "\n",
    "print(string_1.upper())\n",
    "print(string_1.lower())"
   ]
  },
  {
   "cell_type": "code",
   "execution_count": 38,
   "id": "3930438f",
   "metadata": {},
   "outputs": [
    {
     "name": "stdout",
     "output_type": "stream",
     "text": [
      "  Killer bean forever is the best movie ever! !!\n",
      "  Killer bean forever is the best movie ever! \n"
     ]
    }
   ],
   "source": [
    "print(string_1.rstrip())\n",
    "print(string_1.rstrip('!'))"
   ]
  },
  {
   "cell_type": "code",
   "execution_count": 39,
   "id": "f6f4cc2b",
   "metadata": {},
   "outputs": [
    {
     "name": "stdout",
     "output_type": "stream",
     "text": [
      "Killer bean forever is the best movie ever! !!\n"
     ]
    }
   ],
   "source": [
    "print(string_1.strip())"
   ]
  },
  {
   "cell_type": "markdown",
   "id": "17c57358",
   "metadata": {},
   "source": [
    "### .split() method"
   ]
  },
  {
   "cell_type": "code",
   "execution_count": null,
   "id": "7d0e60bc",
   "metadata": {},
   "outputs": [],
   "source": []
  },
  {
   "cell_type": "markdown",
   "id": "16604b5b",
   "metadata": {},
   "source": [
    "### count()\n",
    "\n",
    "Count is applied on a string. it takes a string arguments as an input and it searches for the input string in the applied string and returns the occurance of the input in the applied string."
   ]
  },
  {
   "cell_type": "code",
   "execution_count": 60,
   "id": "b96f4839",
   "metadata": {},
   "outputs": [
    {
     "name": "stdout",
     "output_type": "stream",
     "text": [
      "3\n",
      "2\n"
     ]
    }
   ],
   "source": [
    "print(string_1.count('i'))             # Counting the occurance of 'i' in string_1\n",
    "print(string_1.count('i', 10))         # Counting the occurance of 'i' in string_1 after index 9"
   ]
  },
  {
   "cell_type": "markdown",
   "id": "d00e5a3d",
   "metadata": {},
   "source": [
    "### String Formating\n",
    "\n",
    "Formatting means constructing a string in a predefined pattern. The .format() method can be used to insert values in between strings. .format() takes values that you want to insert in the string as arguments. You can place curly braces inside the string where you want those values to be placed. The numbers inside the braces represent the index of values passed in .format()"
   ]
  },
  {
   "cell_type": "code",
   "execution_count": 58,
   "id": "e96448ec",
   "metadata": {},
   "outputs": [
    {
     "name": "stdout",
     "output_type": "stream",
     "text": [
      "Tata Motors owns Jaguar and Land Rover\n"
     ]
    }
   ],
   "source": [
    "k = \"Jaguar\"\n",
    "l = \"Land\"\n",
    "m = \"Rover\"\n",
    "\n",
    "\n",
    "print(\"Tata Motors owns {0} and {1} {2}\".format(k, l, m))   # Index of k, l, m is 0, 1, 2"
   ]
  },
  {
   "cell_type": "code",
   "execution_count": null,
   "id": "565e519c",
   "metadata": {},
   "outputs": [],
   "source": []
  }
 ],
 "metadata": {
  "kernelspec": {
   "display_name": "Python 3 (ipykernel)",
   "language": "python",
   "name": "python3"
  },
  "language_info": {
   "codemirror_mode": {
    "name": "ipython",
    "version": 3
   },
   "file_extension": ".py",
   "mimetype": "text/x-python",
   "name": "python",
   "nbconvert_exporter": "python",
   "pygments_lexer": "ipython3",
   "version": "3.11.4"
  }
 },
 "nbformat": 4,
 "nbformat_minor": 5
}
