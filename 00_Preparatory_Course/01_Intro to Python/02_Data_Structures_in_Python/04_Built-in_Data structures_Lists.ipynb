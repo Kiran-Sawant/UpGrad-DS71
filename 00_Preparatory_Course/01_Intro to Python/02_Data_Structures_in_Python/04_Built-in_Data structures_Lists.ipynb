{
 "cells": [
  {
   "cell_type": "markdown",
   "id": "c2bfb36c",
   "metadata": {},
   "source": [
    "# Data Structures\n",
    "\n",
    "A data structure is a collection of data values.<br>\n",
    "\n",
    "Python provides a number of built-in datastructures for users to store and perform various operations around their data."
   ]
  },
  {
   "cell_type": "markdown",
   "id": "bb44decb",
   "metadata": {},
   "source": [
    "# Lists\n",
    "\n",
    "-  Lists are an ordered sequence of mixed data types.\n",
    "-  Lists are written as comma-separated elements within square brackets.\n",
    "-  Lists are mutable in nature. i.e. if youmake changes in the list it will be changes in memory unlike strings."
   ]
  },
  {
   "cell_type": "code",
   "execution_count": 2,
   "id": "cb4b4b2a",
   "metadata": {},
   "outputs": [
    {
     "name": "stdout",
     "output_type": "stream",
     "text": [
      "['Jaguar', 'BMW', 'Audi', 'Mercedes', 'Land Rover']\n"
     ]
    }
   ],
   "source": [
    "#_____________Declaring a list___________________#\n",
    "list_1 = ['Jaguar', 'BMW', 'Audi', 'Mercedes', 'Land Rover']   # list literal\n",
    "\n",
    "print(list_1)"
   ]
  },
  {
   "cell_type": "code",
   "execution_count": 3,
   "id": "4cf9ea47",
   "metadata": {},
   "outputs": [
    {
     "name": "stdout",
     "output_type": "stream",
     "text": [
      "['string', 3, 3.14, True]\n"
     ]
    }
   ],
   "source": [
    "# Lists can hold values of various data types.\n",
    "\n",
    "list_2 = ['string', 3, 3.14, True]\n",
    "print(list_2)"
   ]
  },
  {
   "cell_type": "code",
   "execution_count": 23,
   "id": "6f7d5f43",
   "metadata": {},
   "outputs": [
    {
     "name": "stdout",
     "output_type": "stream",
     "text": [
      "['Chemestry', 'Biology', [1994, 2004], 4]\n"
     ]
    }
   ],
   "source": [
    "# You can place a list inside of a list. This is called Nested List\n",
    "\n",
    "list_3 = ['Chemestry', 'Biology', [1994, 2004], 4]\n",
    "print(list_3)"
   ]
  },
  {
   "cell_type": "markdown",
   "id": "6dcb5b7a",
   "metadata": {},
   "source": [
    "### Indexing\n",
    "\n",
    "As list is a sequence data type, we can carry out indexing operations on lists."
   ]
  },
  {
   "cell_type": "code",
   "execution_count": 24,
   "id": "510ad88a",
   "metadata": {},
   "outputs": [
    {
     "data": {
      "text/plain": [
       "'Biology'"
      ]
     },
     "execution_count": 24,
     "metadata": {},
     "output_type": "execute_result"
    }
   ],
   "source": [
    "list_3[1]"
   ]
  },
  {
   "cell_type": "code",
   "execution_count": 25,
   "id": "5f09c610",
   "metadata": {},
   "outputs": [
    {
     "data": {
      "text/plain": [
       "4"
      ]
     },
     "execution_count": 25,
     "metadata": {},
     "output_type": "execute_result"
    }
   ],
   "source": [
    "list_3[-1]"
   ]
  },
  {
   "cell_type": "code",
   "execution_count": 26,
   "id": "3e87251b",
   "metadata": {},
   "outputs": [
    {
     "data": {
      "text/plain": [
       "2004"
      ]
     },
     "execution_count": 26,
     "metadata": {},
     "output_type": "execute_result"
    }
   ],
   "source": [
    "# indexing nested lists\n",
    "\n",
    "list_3[2][1]"
   ]
  },
  {
   "cell_type": "markdown",
   "id": "1db43234",
   "metadata": {},
   "source": [
    "### Slicing"
   ]
  },
  {
   "cell_type": "code",
   "execution_count": 27,
   "id": "8ac48c40",
   "metadata": {},
   "outputs": [
    {
     "data": {
      "text/plain": [
       "['Chemestry', 'Biology']"
      ]
     },
     "execution_count": 27,
     "metadata": {},
     "output_type": "execute_result"
    }
   ],
   "source": [
    "list_3[0:2]"
   ]
  },
  {
   "cell_type": "code",
   "execution_count": 28,
   "id": "773209d8",
   "metadata": {},
   "outputs": [
    {
     "name": "stdout",
     "output_type": "stream",
     "text": [
      "['Chemestry', 'Biology', [1994, 2004], 4, 5, 6]\n"
     ]
    }
   ],
   "source": [
    "# Concatination\n",
    "\n",
    "list_4 = list_3 + [5, 6]\n",
    "print(list_4)"
   ]
  },
  {
   "cell_type": "code",
   "execution_count": 29,
   "id": "10b80614",
   "metadata": {},
   "outputs": [
    {
     "name": "stdout",
     "output_type": "stream",
     "text": [
      "['Chemestry', 'Physics', [1994, 2004], 4]\n"
     ]
    }
   ],
   "source": [
    "# Changing values inside of a list\n",
    "\n",
    "list_3[1] = 'Physics'\n",
    "print(list_3)"
   ]
  },
  {
   "cell_type": "code",
   "execution_count": 30,
   "id": "85cf3046",
   "metadata": {},
   "outputs": [
    {
     "name": "stdout",
     "output_type": "stream",
     "text": [
      "['Chemestry', 'Physics', [1994, 2004], 4, 5, 6]\n"
     ]
    }
   ],
   "source": [
    "# extend() is used to concatinate values to a list without creating a new vriable.\n",
    "\n",
    "list_3.extend([5, 6])\n",
    "print(list_3)"
   ]
  },
  {
   "cell_type": "code",
   "execution_count": 31,
   "id": "e71bdd26",
   "metadata": {},
   "outputs": [
    {
     "name": "stdout",
     "output_type": "stream",
     "text": [
      "['Chemestry', 'Physics', [1994, 2004], 4, 5, 6, [3, 2]]\n"
     ]
    }
   ],
   "source": [
    "# append() is used to attach the passed iterable to the applied list as it is.\n",
    "\n",
    "list_3.append([3, 2])\n",
    "print(list_3)"
   ]
  },
  {
   "cell_type": "code",
   "execution_count": 32,
   "id": "5c6fcc4a",
   "metadata": {},
   "outputs": [
    {
     "name": "stdout",
     "output_type": "stream",
     "text": [
      "['Physics', [1994, 2004], 4, 5, 6, [3, 2]]\n"
     ]
    }
   ],
   "source": [
    "# del command is used to permanantly delete values from a list.\n",
    "\n",
    "del list_3[0]\n",
    "print(list_3)"
   ]
  },
  {
   "cell_type": "code",
   "execution_count": null,
   "id": "b91216b3",
   "metadata": {},
   "outputs": [
    {
     "name": "stdout",
     "output_type": "stream",
     "text": [
      "['Physics', [1994, 2004], 4, 5, 6]\n",
      "[3, 2]\n"
     ]
    }
   ],
   "source": [
    "# pop() method will by default remove the last element of a list.\n",
    "# You can assign that value to a variable if u want.\n",
    "\n",
    "kkr = list_3.pop()          # removing last element and assigning it to kkr\n",
    "\n",
    "print(list_3)\n",
    "print(kkr)"
   ]
  },
  {
   "cell_type": "markdown",
   "id": "30764f3e",
   "metadata": {},
   "source": [
    "### `remove()`\n",
    "\n",
    "`.remove()` method can be used to remove the passed element from the applied list from any position.<br>\n",
    "Do note that you can pass a value that already exists in the applied list, else it will through an error.<br>\n",
    "If there are multiple occurances of the value that you passed, it will remove only the first occurance from the left.<br>\n",
    "Unlike `.pop()`, the removed element cannot be assigned to a variable."
   ]
  },
  {
   "cell_type": "code",
   "execution_count": 39,
   "id": "5162ae64",
   "metadata": {},
   "outputs": [
    {
     "name": "stdout",
     "output_type": "stream",
     "text": [
      "['Physics', [1994, 2004], 6, 5, 5, 5, 5]\n",
      "['Physics', [1994, 2004], 6, 5, 5, 5]\n"
     ]
    }
   ],
   "source": [
    "list_3.extend([5, 5])           # adding values to a list\n",
    "print(list_3)\n",
    "\n",
    "list_3.remove(5)                # removing one of those values\n",
    "print(list_3)"
   ]
  },
  {
   "cell_type": "markdown",
   "id": "c30c0d2b",
   "metadata": {},
   "source": [
    "### Sorting"
   ]
  },
  {
   "cell_type": "code",
   "execution_count": 42,
   "id": "7ce55858",
   "metadata": {},
   "outputs": [
    {
     "name": "stdout",
     "output_type": "stream",
     "text": [
      "[0, 1, 2, 3, 5, 6, 9]\n"
     ]
    }
   ],
   "source": [
    "list_5 = [5, 6, 1, 3, 0, 9, 2]\n",
    "\n",
    "list_5.sort()\n",
    "\n",
    "print(list_5)"
   ]
  },
  {
   "cell_type": "code",
   "execution_count": 43,
   "id": "256ba8b9",
   "metadata": {},
   "outputs": [
    {
     "name": "stdout",
     "output_type": "stream",
     "text": [
      "[9, 6, 5, 3, 2, 1, 0]\n"
     ]
    }
   ],
   "source": [
    "list_5.sort(reverse=True)\n",
    "\n",
    "print(list_5)"
   ]
  },
  {
   "cell_type": "markdown",
   "id": "1eb71bb5",
   "metadata": {},
   "source": [
    "### Difference between .sort() and sorted()\n",
    "\n",
    "`.sort()` is used to change the list to a sorted list<br>\n",
    "`sorted(iterable)` is used to keep  the list in place as it is and create a new sorted list and assign it to a variable.<br>`sorted()` always returns a list regardless of what iterable you pass.<br>`sorted()` is a built-in function. while `.sort()` is a method of list class"
   ]
  },
  {
   "cell_type": "code",
   "execution_count": 58,
   "id": "550aefb5",
   "metadata": {},
   "outputs": [
    {
     "name": "stdout",
     "output_type": "stream",
     "text": [
      "['Ford', 'Jaguar', 'Mahindra', 'Saab', 'Toyota', 'Vauxhall', 'Volkswagen']\n"
     ]
    }
   ],
   "source": [
    "A = ['Volkswagen', 'Jaguar', 'Vauxhall', 'Saab', 'Toyota', 'Ford', 'Mahindra']\n",
    "\n",
    "B = A.sort()\n",
    "print(B)"
   ]
  },
  {
   "cell_type": "code",
   "execution_count": 52,
   "id": "ceb8b667",
   "metadata": {},
   "outputs": [
    {
     "name": "stdout",
     "output_type": "stream",
     "text": [
      "['Ford', 'Jaguar', 'Mahindra', 'Saab', 'Toyota', 'Vauxhall', 'Volkswagen']\n"
     ]
    }
   ],
   "source": [
    "B = sorted(A)\n",
    "print(B)"
   ]
  },
  {
   "cell_type": "code",
   "execution_count": 57,
   "id": "b8d866ef",
   "metadata": {},
   "outputs": [
    {
     "data": {
      "text/plain": [
       "['Volkswagen', 'Jaguar', 'Vauxhall', 'Saab', 'Toyota', 'Ford', 'Mahindra']"
      ]
     },
     "execution_count": 57,
     "metadata": {},
     "output_type": "execute_result"
    }
   ],
   "source": [
    "A[ : ]"
   ]
  },
  {
   "cell_type": "markdown",
   "id": "013fba9f",
   "metadata": {},
   "source": [
    "### Shadow Copying"
   ]
  },
  {
   "cell_type": "code",
   "execution_count": 61,
   "id": "90a07962",
   "metadata": {},
   "outputs": [
    {
     "name": "stdout",
     "output_type": "stream",
     "text": [
      "['Orange', 'Apple', 'Mango', 'Banana'] ['Orange', 'Apple', 'Mango', 'Banana']\n"
     ]
    }
   ],
   "source": [
    "I = ['Orange', 'Apple', 'Mango', 'Banana']\n",
    "J = I                                             # Shadow Copying\n",
    "\n",
    "print(I, J)"
   ]
  },
  {
   "cell_type": "code",
   "execution_count": 62,
   "id": "3e5ae743",
   "metadata": {},
   "outputs": [
    {
     "name": "stdout",
     "output_type": "stream",
     "text": [
      "['Pineapple', 'Apple', 'Mango', 'Banana'] ['Pineapple', 'Apple', 'Mango', 'Banana']\n"
     ]
    }
   ],
   "source": [
    "I[0] = 'Pineapple'                                # Changing first element of I to pineapple\n",
    "\n",
    "print(I, J)"
   ]
  },
  {
   "cell_type": "code",
   "execution_count": 63,
   "id": "56dac1fb",
   "metadata": {},
   "outputs": [
    {
     "name": "stdout",
     "output_type": "stream",
     "text": [
      "['Orange', 'Apple', 'Mango', 'Banana'] ['Orange', 'Apple', 'Mango', 'Banana']\n"
     ]
    }
   ],
   "source": [
    "I = ['Orange', 'Apple', 'Mango', 'Banana']\n",
    "J = I[:]\n",
    "\n",
    "print(I, J)"
   ]
  },
  {
   "cell_type": "code",
   "execution_count": 64,
   "id": "99136a90",
   "metadata": {},
   "outputs": [
    {
     "name": "stdout",
     "output_type": "stream",
     "text": [
      "['Pineapple', 'Apple', 'Mango', 'Banana'] ['Orange', 'Apple', 'Mango', 'Banana']\n"
     ]
    }
   ],
   "source": [
    "I[0] = 'Pineapple'\n",
    "\n",
    "print(I, J)"
   ]
  },
  {
   "cell_type": "code",
   "execution_count": null,
   "id": "ea4595b3",
   "metadata": {},
   "outputs": [],
   "source": []
  }
 ],
 "metadata": {
  "kernelspec": {
   "display_name": "Python 3 (ipykernel)",
   "language": "python",
   "name": "python3"
  },
  "language_info": {
   "codemirror_mode": {
    "name": "ipython",
    "version": 3
   },
   "file_extension": ".py",
   "mimetype": "text/x-python",
   "name": "python",
   "nbconvert_exporter": "python",
   "pygments_lexer": "ipython3",
   "version": "3.11.4"
  }
 },
 "nbformat": 4,
 "nbformat_minor": 5
}
