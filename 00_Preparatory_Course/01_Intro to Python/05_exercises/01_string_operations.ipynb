{
 "cells": [
  {
   "cell_type": "markdown",
   "metadata": {},
   "source": [
    "## palindrome"
   ]
  },
  {
   "cell_type": "code",
   "execution_count": 8,
   "metadata": {},
   "outputs": [
    {
     "name": "stdout",
     "output_type": "stream",
     "text": [
      "1\n"
     ]
    }
   ],
   "source": [
    "inp = 'HAnnah'\n",
    "\n",
    "palindrome = inp[-1::-1].lower()\n",
    "\n",
    "if palindrome == inp.lower():\n",
    "    print(1)\n",
    "else:\n",
    "    print(0)"
   ]
  },
  {
   "cell_type": "markdown",
   "metadata": {},
   "source": [
    "## Words in Reverse Order\n",
    "\n",
    "You will be given a sentence in the form of a string. You have to reverse the order of the words in the sentence. Remember not to reverse the individual words, but the order of words"
   ]
  },
  {
   "cell_type": "code",
   "execution_count": 17,
   "metadata": {},
   "outputs": [
    {
     "name": "stdout",
     "output_type": "stream",
     "text": [
      "fun and easy super is python\n"
     ]
    }
   ],
   "source": [
    "string = 'python is super easy and fun'\n",
    "\n",
    "x = \"\"\n",
    "\n",
    "for i in string.split(' ')[-1::-1]:\n",
    "    x += i + ' '\n",
    "\n",
    "print(x.rstrip())"
   ]
  },
  {
   "cell_type": "markdown",
   "metadata": {},
   "source": [
    "## No Spaces\n",
    "\n",
    "Remove spaces and replace then with an underscore."
   ]
  },
  {
   "cell_type": "code",
   "execution_count": 19,
   "metadata": {},
   "outputs": [
    {
     "data": {
      "text/plain": [
       "'Calorie_Consumed'"
      ]
     },
     "execution_count": 19,
     "metadata": {},
     "output_type": "execute_result"
    }
   ],
   "source": [
    "string_2 = 'caloRie consuMed'\n",
    "\n",
    "string_2.lower().title().replace(' ', '_')"
   ]
  },
  {
   "cell_type": "markdown",
   "metadata": {},
   "source": [
    "## Vowels\n",
    "Write a program that receives a string and shifts all the vowels present in it to the beginning. Output the resultant string. The order of all the vowels with respect to each other as well as the order of all the other characters with respect to each other should stay the same."
   ]
  },
  {
   "cell_type": "code",
   "execution_count": 28,
   "metadata": {},
   "outputs": [
    {
     "name": "stdout",
     "output_type": "stream",
     "text": [
      "oaiprgrmmng\n"
     ]
    }
   ],
   "source": [
    "string_3 = 'programming'\n",
    "\n",
    "vov = ''.join([x for x in string_3 if x in 'aeiou'])\n",
    "con = ''.join([x for x in string_3 if x not in 'aeiou'])\n",
    "print(vov + con)"
   ]
  },
  {
   "cell_type": "markdown",
   "metadata": {},
   "source": [
    "## Common Prefix\n",
    "You will be given two strings. You have to find the largest prefix common in both the strings."
   ]
  },
  {
   "cell_type": "code",
   "execution_count": 43,
   "metadata": {},
   "outputs": [
    {
     "name": "stdout",
     "output_type": "stream",
     "text": [
      "absh\n"
     ]
    }
   ],
   "source": [
    "st1 = 'abshdksand'\n",
    "st2 = 'abshiehand'\n",
    "\n",
    "k = len(st1) if len(st1) < len(st2) else len(st2)\n",
    "# print(k)\n",
    "common = \"\"\n",
    "\n",
    "for i in range(0, k):\n",
    "    if st1[i] != st2[i]:\n",
    "        break\n",
    "if i ==0:\n",
    "    print(-1)\n",
    "else:\n",
    "    print(st1[:i])"
   ]
  },
  {
   "cell_type": "markdown",
   "metadata": {},
   "source": [
    "## Anagrams\n",
    "Two strings are anagrams of each other if you can rearrange the characters of one string to make the other string."
   ]
  },
  {
   "cell_type": "code",
   "execution_count": 59,
   "metadata": {},
   "outputs": [
    {
     "data": {
      "text/plain": [
       "True"
      ]
     },
     "execution_count": 59,
     "metadata": {},
     "output_type": "execute_result"
    }
   ],
   "source": [
    "s1 = 'thing'\n",
    "s2 = 'night'\n",
    "\n",
    "def anagram(s1:str, s2:str) -> bool:\n",
    "    if len(s1) != len(s2):\n",
    "        return False\n",
    "    \n",
    "    for i in range(len(s1)):\n",
    "        if s1.count(s1[i]) != s2.count(s2[i]):\n",
    "            return False\n",
    "        else:\n",
    "            return True\n",
    "\n",
    "anagram(s1, s2)"
   ]
  },
  {
   "cell_type": "code",
   "execution_count": null,
   "metadata": {},
   "outputs": [],
   "source": []
  }
 ],
 "metadata": {
  "kernelspec": {
   "display_name": "Python 3",
   "language": "python",
   "name": "python3"
  },
  "language_info": {
   "codemirror_mode": {
    "name": "ipython",
    "version": 3
   },
   "file_extension": ".py",
   "mimetype": "text/x-python",
   "name": "python",
   "nbconvert_exporter": "python",
   "pygments_lexer": "ipython3",
   "version": "3.11.4"
  },
  "orig_nbformat": 4
 },
 "nbformat": 4,
 "nbformat_minor": 2
}
