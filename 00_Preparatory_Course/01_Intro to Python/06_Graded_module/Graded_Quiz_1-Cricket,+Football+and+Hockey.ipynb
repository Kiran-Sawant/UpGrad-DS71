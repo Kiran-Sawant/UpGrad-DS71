{
 "cells": [
  {
   "cell_type": "markdown",
   "metadata": {},
   "source": [
    "In a school, there are total 100 students numbered from 1 to 100. You’re given three lists named ‘C’, ‘F’, and ‘H’, representing students who play cricket, football, and hockey, respectively. Based on this information, find out and print the following: \n",
    "- Students who play all the three sports\n",
    "- Students who play both cricket and football but don’t play hockey\n",
    "- Students who play exactly two of the sports\n",
    "- Students who don’t play any of the three sports"
   ]
  },
  {
   "cell_type": "code",
   "execution_count": 1,
   "metadata": {},
   "outputs": [],
   "source": [
    "C = [7, 8, 9, 18, 20, 21, 25, 26, 27, 31, 32, 34, 35, 36, 40, 43, 45, 47, 53, 58, 62, 67, 68, 71, 72, 74, 75, 76, 80, 81, 82, 90, 93, 95, 97, 99]\n",
    "F = [1, 7, 10, 13, 16, 22, 24, 29, 30, 32, 34, 39, 40, 43, 44, 48, 56, 60, 65, 68, 69, 73, 77, 78, 90, 93, 94, 95, 96]\n",
    "H = [5, 12, 14, 17, 20, 21, 22, 25, 28, 30, 37, 38, 39, 40, 42, 44, 57, 59, 61, 62, 67, 71, 75, 76, 77, 82, 83, 86, 87, 92, 94, 95]"
   ]
  },
  {
   "cell_type": "markdown",
   "metadata": {},
   "source": [
    "#### Q1. Which are the students who play all the three sports?\n",
    "- [22, 39]\n",
    "- [39, 82]\n",
    "- [40, 95]\n",
    "- [82, 94]"
   ]
  },
  {
   "cell_type": "code",
   "execution_count": 2,
   "metadata": {},
   "outputs": [
    {
     "name": "stdout",
     "output_type": "stream",
     "text": [
      "[40, 95]\n"
     ]
    }
   ],
   "source": [
    "all_rounder = list()\n",
    "\n",
    "for i in C:\n",
    "    for j in F:\n",
    "        for k in H:\n",
    "            if i == j == k:\n",
    "                all_rounder.append(i)\n",
    "            else:\n",
    "                continue\n",
    "\n",
    "print(all_rounder)"
   ]
  },
  {
   "cell_type": "markdown",
   "metadata": {},
   "source": [
    "#### Q2. Which are the players who play both cricket and hockey but don't play football?\n",
    "- [20, 21, 25, 62, 67, 71, 75, 76, 82]\n",
    "- [20, 21, 22, 25, 30, 32, 34]\n",
    "- [20, 21, 22, 25, 30, 32, 34, 39, 43, 44, 62]\n",
    "- [20, 21, 68, 71, 75, 76]"
   ]
  },
  {
   "cell_type": "code",
   "execution_count": 8,
   "metadata": {},
   "outputs": [
    {
     "data": {
      "text/plain": [
       "{20, 21, 25, 62, 67, 71, 75, 76, 82}"
      ]
     },
     "execution_count": 8,
     "metadata": {},
     "output_type": "execute_result"
    }
   ],
   "source": [
    "C_set = set(C)\n",
    "H_set = set(H)\n",
    "F_set = set(F)\n",
    "\n",
    "CH = C_set & H_set\n",
    "CH - F_set"
   ]
  },
  {
   "cell_type": "markdown",
   "metadata": {},
   "source": [
    "#### Q3. How many players play exactly two sports?\n",
    "- 19\n",
    "- 20\n",
    "- 21\n",
    "- 22"
   ]
  },
  {
   "cell_type": "code",
   "execution_count": 9,
   "metadata": {},
   "outputs": [
    {
     "data": {
      "text/plain": [
       "{20, 21, 25, 62, 67, 71, 75, 76, 82}"
      ]
     },
     "execution_count": 9,
     "metadata": {},
     "output_type": "execute_result"
    }
   ],
   "source": [
    "(C_set & H_set) - F_set"
   ]
  },
  {
   "cell_type": "code",
   "execution_count": 10,
   "metadata": {},
   "outputs": [
    {
     "data": {
      "text/plain": [
       "{22, 30, 39, 44, 77, 94}"
      ]
     },
     "execution_count": 10,
     "metadata": {},
     "output_type": "execute_result"
    }
   ],
   "source": [
    "(H_set & F_set) - C_set"
   ]
  },
  {
   "cell_type": "code",
   "execution_count": 11,
   "metadata": {},
   "outputs": [
    {
     "data": {
      "text/plain": [
       "{7, 32, 34, 43, 68, 90, 93}"
      ]
     },
     "execution_count": 11,
     "metadata": {},
     "output_type": "execute_result"
    }
   ],
   "source": [
    "(C_set & F_set) - H_set"
   ]
  },
  {
   "cell_type": "code",
   "execution_count": 13,
   "metadata": {},
   "outputs": [
    {
     "data": {
      "text/plain": [
       "22"
      ]
     },
     "execution_count": 13,
     "metadata": {},
     "output_type": "execute_result"
    }
   ],
   "source": [
    "ttl = ((C_set & H_set) - F_set) | ((H_set & F_set) - C_set) | ((C_set & F_set) - H_set)\n",
    "len(ttl)"
   ]
  },
  {
   "cell_type": "markdown",
   "metadata": {},
   "source": [
    "#### Q4. Which of these students do not play any of the sports? (More than one option may be correct)\n",
    "- 41\n",
    "- 48\n",
    "- 63\n",
    "- 85"
   ]
  },
  {
   "cell_type": "code",
   "execution_count": 21,
   "metadata": {},
   "outputs": [],
   "source": [
    "def check(roll:int) -> bool:\n",
    "    \"\"\"roll:int = roll number of the student\"\"\"\n",
    "    player:bool = False\n",
    "\n",
    "    if roll in C:\n",
    "        player = True\n",
    "    elif roll in F:\n",
    "        player = True\n",
    "    elif roll in H:\n",
    "        player = True\n",
    "\n",
    "    return player"
   ]
  },
  {
   "cell_type": "code",
   "execution_count": 22,
   "metadata": {},
   "outputs": [
    {
     "data": {
      "text/plain": [
       "True"
      ]
     },
     "execution_count": 22,
     "metadata": {},
     "output_type": "execute_result"
    }
   ],
   "source": [
    "check(48)"
   ]
  },
  {
   "cell_type": "code",
   "execution_count": null,
   "metadata": {},
   "outputs": [],
   "source": []
  }
 ],
 "metadata": {
  "kernelspec": {
   "display_name": "Python 3",
   "language": "python",
   "name": "python3"
  },
  "language_info": {
   "codemirror_mode": {
    "name": "ipython",
    "version": 3
   },
   "file_extension": ".py",
   "mimetype": "text/x-python",
   "name": "python",
   "nbconvert_exporter": "python",
   "pygments_lexer": "ipython3",
   "version": "3.11.4"
  }
 },
 "nbformat": 4,
 "nbformat_minor": 2
}
