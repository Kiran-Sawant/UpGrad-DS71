{
 "cells": [
  {
   "cell_type": "markdown",
   "id": "9afa6345",
   "metadata": {},
   "source": [
    "# Loops and Iterators"
   ]
  },
  {
   "cell_type": "markdown",
   "id": "50d04f8b",
   "metadata": {},
   "source": [
    "# While Loops\n",
    "\n",
    "While loops are conditional iterators that iterate(repeat) for an indefinite amount of time.<br>\n",
    "Their number of iteration depends on the boolean expression that is passed right after the while key-word.<br>\n",
    "As long as the boolean stands True, the while loop will iterate. Once the condition turns out to false, the loops stops.<br>\n",
    "Due to their dependency on booleans while loops require initialzation of a variable. One needs to carryout certain operation that inturn changes the value of that variable so that in the next iteration the loop checks the boolean expression to see if it should perform the next cycle of iteration or not.<br>\n",
    "If one is looking to run the while loop indefinetly thay can use the expression \"while True\"<br><br>\n",
    "A while loop is expressed with key-work while followed by the boolean expression and then a colon to end the header. The iterative code block is written under the loop header with an indentation of a single tab."
   ]
  },
  {
   "cell_type": "code",
   "execution_count": 3,
   "id": "ec3d67b5",
   "metadata": {},
   "outputs": [
    {
     "name": "stdout",
     "output_type": "stream",
     "text": [
      "Enter your four digit pin: 1235\n",
      "Invalid Input, try again: 1234\n",
      "Pin validation successful.\n"
     ]
    }
   ],
   "source": [
    "# The code below asks for a user input and repeats the process until a correct pin is entered.\n",
    "\n",
    "pin = input('Enter your four digit pin: ')               # Initializing dependency variable\n",
    "\n",
    "# Initializing while loop with a boolean expression.\n",
    "while pin != '1234':\n",
    "    # iterative code block\n",
    "    pin = input('Invalid Input, try again: ')\n",
    "\n",
    "# code block executed if the while boolean turns false.\n",
    "print('Pin validation successful.')"
   ]
  },
  {
   "cell_type": "markdown",
   "id": "499e5f8b",
   "metadata": {},
   "source": [
    "### Exiting a while loop"
   ]
  },
  {
   "cell_type": "code",
   "execution_count": 10,
   "id": "ba1e3f29",
   "metadata": {},
   "outputs": [
    {
     "name": "stdout",
     "output_type": "stream",
     "text": [
      "Enter your four digit pin: 1254\n",
      "Invalid Input, try again: 5687\n",
      "3\n",
      "Invalid Input, try again: 7896\n",
      "4\n"
     ]
    },
    {
     "ename": "SystemExit",
     "evalue": "Too many attempts!",
     "output_type": "error",
     "traceback": [
      "An exception has occurred, use %tb to see the full traceback.\n",
      "\u001b[1;31mSystemExit\u001b[0m\u001b[1;31m:\u001b[0m Too many attempts!\n"
     ]
    },
    {
     "name": "stderr",
     "output_type": "stream",
     "text": [
      "C:\\Program Files\\Python311\\Lib\\site-packages\\IPython\\core\\interactiveshell.py:3516: UserWarning: To exit: use 'exit', 'quit', or Ctrl-D.\n",
      "  warn(\"To exit: use 'exit', 'quit', or Ctrl-D.\", stacklevel=1)\n"
     ]
    }
   ],
   "source": [
    "# The code below asks for a user input and repeats the process with a limit of 3 attempts.\n",
    "import sys\n",
    "\n",
    "pin = input('Enter your four digit pin: ')               # Initializing dependency variable\n",
    "attempts = 2\n",
    "\n",
    "while pin != '1234':\n",
    "    \n",
    "    if attempts > 3:\n",
    "        sys.exit('Too many attempts!')\n",
    "    \n",
    "    pin = input('Invalid Input, try again: ')\n",
    "    attempts += 1\n",
    "    print(attempts)\n",
    "\n",
    "print('Pin validation successful.')"
   ]
  },
  {
   "cell_type": "markdown",
   "id": "055cd57b",
   "metadata": {},
   "source": [
    "# For Loops\n",
    "\n",
    "-  Its a counter based loop that iterates over a predefined set of values or for a definite number of times.\n",
    "-  For loops are used when you want to repeatedly perform an operation on every element of an iterable or you want to perform an operation for a set number of time.\n",
    "-  The syntax of a for loop starts with 'for' keyword followed by a local variable followed by 'in' membership operator followed by an iterable like a list, set, range, etc. Then a colon to terminate the header, and right beneath the header you type the iterable logic with an indentation.<br>\n",
    "\n",
    "- In the code below, 'var' is a variable used inside the context of the for loop. 'var' will be assigned individual values of the iterable list_1 in each cycle of the loop.\n",
    "- Do note that the scope of var is global and is not local to the context of the loop i.e. if you use a variable that was declared before initiating the loop, the loop will change the declared variable. Therefore, it is recomended to use a loop variable that is not declared initially unlike while loops."
   ]
  },
  {
   "cell_type": "code",
   "execution_count": 1,
   "id": "f783f933",
   "metadata": {},
   "outputs": [
    {
     "name": "stdout",
     "output_type": "stream",
     "text": [
      "1 2 3 4 5 "
     ]
    }
   ],
   "source": [
    "# for loop syntax\n",
    "# Iterating over a list of integers\n",
    "\n",
    "list_1 = [1, 2, 3, 4, 5]                      # Initiating an iterable to loop over.\n",
    "\n",
    "for var in list_1:                            # for loop header\n",
    "    print(var, end=' ')                       # iterative operation"
   ]
  },
  {
   "cell_type": "code",
   "execution_count": 13,
   "id": "4b4cf65a",
   "metadata": {},
   "outputs": [
    {
     "name": "stdout",
     "output_type": "stream",
     "text": [
      "N e w   Y o r k "
     ]
    }
   ],
   "source": [
    "# Iterating over a string\n",
    "\n",
    "string = 'New York'\n",
    "for char in string:\n",
    "    print(char, end=' ')"
   ]
  },
  {
   "cell_type": "markdown",
   "id": "4bcd5ee9",
   "metadata": {},
   "source": [
    "### Continue and Break\n",
    "\n",
    "The Continue and break keywords give you more control over the execution of the loops.<br>\n",
    "Adding continue to a line in a loop will skip that particular iteration beyond that line and move on to next cycle of that loop.<br>\n",
    "Adding break to a line in a loop will terminate that particular iteration beyond that line and stop that loop."
   ]
  },
  {
   "cell_type": "code",
   "execution_count": 47,
   "id": "b261d8c4",
   "metadata": {},
   "outputs": [
    {
     "name": "stdout",
     "output_type": "stream",
     "text": [
      "Buy milk\n",
      "Buy pasta\n",
      "Buy eggs\n",
      "Buy bread\n",
      "Buy rice\n"
     ]
    }
   ],
   "source": [
    "# Here, the if condition on line-6 checks for 'spam' and skips that cycle if True.\n",
    "\n",
    "shopping_list = ['milk', 'pasta', 'eggs', 'spam', 'bread', 'rice']\n",
    "\n",
    "for item in shopping_list:\n",
    "    if item == 'spam':\n",
    "        continue\n",
    "    print('Buy ' + item)"
   ]
  },
  {
   "cell_type": "code",
   "execution_count": 48,
   "id": "ce62e1dd",
   "metadata": {},
   "outputs": [
    {
     "name": "stdout",
     "output_type": "stream",
     "text": [
      "Buy milk\n",
      "Buy pasta\n",
      "Buy eggs\n"
     ]
    }
   ],
   "source": [
    "# Here, the if condition on line-4 checks for 'spam' and terminats the loop if True\n",
    "\n",
    "for item in shopping_list:\n",
    "    if item == 'spam':\n",
    "        break\n",
    "    print('Buy ' + item)"
   ]
  },
  {
   "cell_type": "markdown",
   "id": "b7810c64",
   "metadata": {},
   "source": [
    "### Iterating over a dictionary\n",
    "\n",
    "Iterating over a dictionary is not straight forward as iterating over a list because a dictionary consists of both keys and values.<br>\n",
    "Therefore, one can make use of the `dict.items()` method to get a list of all the items in the list.<br>\n",
    "`dict.items()` returns a '`dict_items`' object which is an iterable object. It can be converted to a list where each item in the list consist of a tuple of the key and value."
   ]
  },
  {
   "cell_type": "code",
   "execution_count": 9,
   "id": "fe7c7d20",
   "metadata": {},
   "outputs": [
    {
     "name": "stdout",
     "output_type": "stream",
     "text": [
      "dict_items([(1, ['sam', 24]), (2, ['Rob', 25]), (3, ['Jack', 26]), (4, ['Cornor', 24]), (5, ['Trump', 27])])\n",
      "students_data.items() is of type: <class 'dict_items'>\n"
     ]
    }
   ],
   "source": [
    "# Exploring dict.items()\n",
    "\n",
    "students_data = {1:['sam', 24], 2:['Rob', 25], 3:['Jack', 26], 4:['Cornor', 24], 5:['Trump', 27]}\n",
    "\n",
    "print(students_data.items())\n",
    "print('students_data.items() is of type: {0}'.format(type(students_data.items())))"
   ]
  },
  {
   "cell_type": "code",
   "execution_count": 10,
   "id": "f36f51e2",
   "metadata": {},
   "outputs": [
    {
     "name": "stdout",
     "output_type": "stream",
     "text": [
      "1 ['sam', 24]\n",
      "2 ['Rob', 25]\n",
      "3 ['Jack', 26]\n",
      "4 ['Cornor', 24]\n",
      "5 ['Trump', 27]\n"
     ]
    }
   ],
   "source": [
    "for key, val in students_data.items():\n",
    "    print(key, val)"
   ]
  },
  {
   "cell_type": "code",
   "execution_count": 11,
   "id": "4308aeea",
   "metadata": {},
   "outputs": [
    {
     "name": "stdout",
     "output_type": "stream",
     "text": [
      "1\n",
      "2\n",
      "3\n",
      "4\n",
      "5\n"
     ]
    }
   ],
   "source": [
    "# Iterate over a keys of a dictionary\n",
    "# The for loop will iterate over the keys by default\n",
    "\n",
    "for keys in students_data:\n",
    "    print(keys)"
   ]
  },
  {
   "cell_type": "code",
   "execution_count": 12,
   "id": "5f758d66",
   "metadata": {},
   "outputs": [
    {
     "name": "stdout",
     "output_type": "stream",
     "text": [
      "['sam', 24]\n",
      "['Rob', 25]\n",
      "['Jack', 26]\n",
      "['Cornor', 24]\n",
      "['Trump', 27]\n"
     ]
    }
   ],
   "source": [
    "# Iterating over the values inside of a dictionary using dict.values() method.\n",
    "\n",
    "for value in students_data.values():\n",
    "    print(value)"
   ]
  },
  {
   "cell_type": "markdown",
   "id": "6d3e9a79",
   "metadata": {},
   "source": [
    "### Ex. Print all prime numbers between 1 and 20\n",
    "\n",
    "A prime number is whole number greater than 1 that cannot be exactly divided by any whole number other than itself and 1 (e.g. 2, 3, 5, 7, 11)."
   ]
  },
  {
   "cell_type": "code",
   "execution_count": 30,
   "id": "84dead9d",
   "metadata": {},
   "outputs": [
    {
     "name": "stdout",
     "output_type": "stream",
     "text": [
      "1\n",
      "2\n",
      "3\n",
      "5\n",
      "7\n",
      "11\n",
      "13\n",
      "17\n",
      "19\n"
     ]
    }
   ],
   "source": [
    "for n in range(1, 20):\n",
    "    \n",
    "    # flag to determine prime number. as 1 & 2 are already prime setting it to True.\n",
    "    flag = True\n",
    "    for i in range(2, n):\n",
    "        if n%i == 0:            \n",
    "            #___If program enters this line n is not prime___#\n",
    "            flag = False\n",
    "            break          # break loop if a non-prime is found and move n to nxt number\n",
    "    if flag == True:\n",
    "        print(n)"
   ]
  }
 ],
 "metadata": {
  "kernelspec": {
   "display_name": "Python 3 (ipykernel)",
   "language": "python",
   "name": "python3"
  },
  "language_info": {
   "codemirror_mode": {
    "name": "ipython",
    "version": 3
   },
   "file_extension": ".py",
   "mimetype": "text/x-python",
   "name": "python",
   "nbconvert_exporter": "python",
   "pygments_lexer": "ipython3",
   "version": "3.11.4"
  }
 },
 "nbformat": 4,
 "nbformat_minor": 5
}
