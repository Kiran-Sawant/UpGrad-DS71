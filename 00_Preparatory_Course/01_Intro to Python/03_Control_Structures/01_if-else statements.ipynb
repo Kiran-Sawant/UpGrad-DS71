{
 "cells": [
  {
   "cell_type": "markdown",
   "id": "b477b8ce",
   "metadata": {},
   "source": [
    "# Conditional Statements"
   ]
  },
  {
   "cell_type": "markdown",
   "id": "5b01a48d",
   "metadata": {},
   "source": [
    "## Relational Operators\n",
    "\n",
    "-  Relational Operators compare value on either side of the operator and returns a boolean based on the result."
   ]
  },
  {
   "cell_type": "markdown",
   "id": "c026b4ac",
   "metadata": {},
   "source": [
    "### Double equal to operator\n",
    "\n",
    "Checks if both the values are equal and returns a boolean."
   ]
  },
  {
   "cell_type": "code",
   "execution_count": 2,
   "id": "885a0193",
   "metadata": {},
   "outputs": [
    {
     "data": {
      "text/plain": [
       "True"
      ]
     },
     "execution_count": 2,
     "metadata": {},
     "output_type": "execute_result"
    }
   ],
   "source": [
    "10 == 10"
   ]
  },
  {
   "cell_type": "markdown",
   "id": "4da4b7b2",
   "metadata": {},
   "source": [
    "### Not equal to operator\n",
    "\n",
    "Similar to == but checks for inequality."
   ]
  },
  {
   "cell_type": "code",
   "execution_count": 3,
   "id": "c9f24b80",
   "metadata": {},
   "outputs": [
    {
     "data": {
      "text/plain": [
       "False"
      ]
     },
     "execution_count": 3,
     "metadata": {},
     "output_type": "execute_result"
    }
   ],
   "source": [
    "10 != 10"
   ]
  },
  {
   "cell_type": "markdown",
   "id": "b182ee43",
   "metadata": {},
   "source": [
    "### Greater than Operator"
   ]
  },
  {
   "cell_type": "code",
   "execution_count": 5,
   "id": "cf647eaf",
   "metadata": {},
   "outputs": [
    {
     "data": {
      "text/plain": [
       "True"
      ]
     },
     "execution_count": 5,
     "metadata": {},
     "output_type": "execute_result"
    }
   ],
   "source": [
    "10 > 9"
   ]
  },
  {
   "cell_type": "markdown",
   "id": "24f6adc1",
   "metadata": {},
   "source": [
    "### Less Than Operator"
   ]
  },
  {
   "cell_type": "code",
   "execution_count": 6,
   "id": "1d1a7395",
   "metadata": {},
   "outputs": [
    {
     "data": {
      "text/plain": [
       "True"
      ]
     },
     "execution_count": 6,
     "metadata": {},
     "output_type": "execute_result"
    }
   ],
   "source": [
    "10 < 11"
   ]
  },
  {
   "cell_type": "markdown",
   "id": "0b1390bc",
   "metadata": {},
   "source": [
    "### Greator than or equal to"
   ]
  },
  {
   "cell_type": "code",
   "execution_count": 7,
   "id": "9999b79d",
   "metadata": {},
   "outputs": [
    {
     "data": {
      "text/plain": [
       "False"
      ]
     },
     "execution_count": 7,
     "metadata": {},
     "output_type": "execute_result"
    }
   ],
   "source": [
    "10 >= 16"
   ]
  },
  {
   "cell_type": "markdown",
   "id": "513a2ba4",
   "metadata": {},
   "source": [
    "### Less than or equal to Operator"
   ]
  },
  {
   "cell_type": "code",
   "execution_count": 8,
   "id": "ef9a2809",
   "metadata": {},
   "outputs": [
    {
     "data": {
      "text/plain": [
       "True"
      ]
     },
     "execution_count": 8,
     "metadata": {},
     "output_type": "execute_result"
    }
   ],
   "source": [
    "10 <= 10"
   ]
  },
  {
   "cell_type": "markdown",
   "id": "618e9129",
   "metadata": {},
   "source": [
    "# Decision Making\n",
    "\n",
    "An `if...else` statement is a fundamental control structure in programming that allows you to execute different blocks of code based on whether a condition is true or false.\n",
    "\n",
    "**Definition:**<br><br>\n",
    "`If Statement`: Checks a condition. If the condition is true, it executes a block of code.\n",
    "\n",
    "`Else Statement`: Follows an if statement. If the condition in the if statement is false, it executes a different block of code."
   ]
  },
  {
   "cell_type": "code",
   "execution_count": null,
   "id": "339035a0",
   "metadata": {},
   "outputs": [
    {
     "name": "stdout",
     "output_type": "stream",
     "text": [
      "45 is less than 99\n"
     ]
    }
   ],
   "source": [
    "x = 45\n",
    "\n",
    "if x < 99:\n",
    "    # Execute if True\n",
    "    print(x, 'is less than 99')\n",
    "else:\n",
    "    # Execute if False\n",
    "    print(x, 'x is greater than 99')"
   ]
  },
  {
   "cell_type": "markdown",
   "id": "1acbbb04",
   "metadata": {},
   "source": [
    "### Checking for multiple conditions"
   ]
  },
  {
   "cell_type": "code",
   "execution_count": 19,
   "id": "4e8c770a",
   "metadata": {},
   "outputs": [
    {
     "name": "stdout",
     "output_type": "stream",
     "text": [
      "Enter your age as a number: 26\n",
      "Sorry, you are not welcome...\n"
     ]
    }
   ],
   "source": [
    "x = int(input('Enter your age as a number: '))\n",
    "\n",
    "if x <= 18 or x >= 60:\n",
    "    print('Welcome to the party!')\n",
    "else:\n",
    "    print('Sorry, you are not welcome...')"
   ]
  },
  {
   "cell_type": "markdown",
   "id": "255cc9cb",
   "metadata": {},
   "source": [
    "### Decision with more than two conditions and outputs"
   ]
  },
  {
   "cell_type": "code",
   "execution_count": 20,
   "id": "5227c7a5",
   "metadata": {},
   "outputs": [
    {
     "name": "stdout",
     "output_type": "stream",
     "text": [
      "You won a discount voucher of $1000\n"
     ]
    }
   ],
   "source": [
    "shopping_total = 550\n",
    "\n",
    "if shopping_total >= 500:\n",
    "    print('You won a discount voucher of $1000')\n",
    "elif shopping_total >= 250:\n",
    "    print('You won a discount voucher of $500')\n",
    "elif shopping_total >= 100:\n",
    "    print('You won a discount voucher of $100')\n",
    "else:\n",
    "    print('You do not get any discount mate')"
   ]
  },
  {
   "cell_type": "markdown",
   "id": "4263f6bd",
   "metadata": {},
   "source": [
    "# Nested if-else\n",
    "\n",
    "Nested conditions is useful when performing different operation in each condition involving different variables.<br> Here, the operation in nested loop depends on the outcome of the high order loop and not otherwise.<br>In elif, a subsequent condition is not dependent on the output of teh condition that precedes."
   ]
  },
  {
   "cell_type": "code",
   "execution_count": 21,
   "id": "775a7f3b",
   "metadata": {},
   "outputs": [],
   "source": [
    "world_cups = {2019: ['England', 'New Zeland'],\n",
    "             2015: ['Austrailia', 'New Zeland'],\n",
    "             2011: ['India', 'Sri Lanka'],\n",
    "             2007: ['Austrailia', 'Sri Lanka'],\n",
    "             2003: ['Austrailia', 'India']}"
   ]
  },
  {
   "cell_type": "code",
   "execution_count": 22,
   "id": "109ff1cd",
   "metadata": {},
   "outputs": [
    {
     "name": "stdout",
     "output_type": "stream",
     "text": [
      "Enter the year to check if New Zealand made it to the finals2013\n",
      "The world cup did not happen in year 2013\n"
     ]
    }
   ],
   "source": [
    "year = input('Enter the year to check if New Zealand made it to the finals')\n",
    "\n",
    "if year in world_cups:                                             # Checking in dictionary\n",
    "    \n",
    "    #____Nested condition____#\n",
    "    if 'New Zeland' in world_cups[year]:                           # Checking in list\n",
    "        print('New Zeland made it to the finals!')\n",
    "    else:\n",
    "        print('New Zealand could not make it to the Finals')\n",
    "else:\n",
    "    print(f'The world cup did not happen in year {year}')"
   ]
  },
  {
   "cell_type": "code",
   "execution_count": null,
   "id": "aadb3ff4",
   "metadata": {},
   "outputs": [],
   "source": []
  }
 ],
 "metadata": {
  "kernelspec": {
   "display_name": "Python 3 (ipykernel)",
   "language": "python",
   "name": "python3"
  },
  "language_info": {
   "codemirror_mode": {
    "name": "ipython",
    "version": 3
   },
   "file_extension": ".py",
   "mimetype": "text/x-python",
   "name": "python",
   "nbconvert_exporter": "python",
   "pygments_lexer": "ipython3",
   "version": "3.11.4"
  }
 },
 "nbformat": 4,
 "nbformat_minor": 5
}
