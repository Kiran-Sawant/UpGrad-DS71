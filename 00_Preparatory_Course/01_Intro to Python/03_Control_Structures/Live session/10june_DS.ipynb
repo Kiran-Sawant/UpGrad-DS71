{
 "cells": [
  {
   "cell_type": "code",
   "execution_count": 15,
   "metadata": {},
   "outputs": [],
   "source": [
    "#data_types\n",
    "#loops\n",
    "#conditional Statements\n",
    "#operations\n",
    "#input output"
   ]
  },
  {
   "cell_type": "code",
   "execution_count": 3,
   "metadata": {},
   "outputs": [
    {
     "name": "stdout",
     "output_type": "stream",
     "text": [
      "Hello World\n"
     ]
    }
   ],
   "source": [
    "print(\"Hello World\")"
   ]
  },
  {
   "cell_type": "code",
   "execution_count": 4,
   "metadata": {},
   "outputs": [
    {
     "name": "stdout",
     "output_type": "stream",
     "text": [
      "<class 'int'>\n"
     ]
    }
   ],
   "source": [
    "integer = 100\n",
    "print(type(integer))"
   ]
  },
  {
   "cell_type": "code",
   "execution_count": 6,
   "metadata": {},
   "outputs": [
    {
     "name": "stdout",
     "output_type": "stream",
     "text": [
      "<class 'str'>\n"
     ]
    }
   ],
   "source": [
    "string = \"UpGrad\"\n",
    "print(type(string))"
   ]
  },
  {
   "cell_type": "code",
   "execution_count": 8,
   "metadata": {},
   "outputs": [
    {
     "name": "stdout",
     "output_type": "stream",
     "text": [
      "<class 'bool'>\n"
     ]
    }
   ],
   "source": [
    "boolean = True\n",
    "print(type(boolean))"
   ]
  },
  {
   "cell_type": "code",
   "execution_count": 9,
   "metadata": {},
   "outputs": [
    {
     "name": "stdout",
     "output_type": "stream",
     "text": [
      "<class 'float'>\n"
     ]
    }
   ],
   "source": [
    "floating = 3.14\n",
    "print(type(floating))"
   ]
  },
  {
   "cell_type": "code",
   "execution_count": 12,
   "metadata": {},
   "outputs": [
    {
     "name": "stdout",
     "output_type": "stream",
     "text": [
      "The addition of 20 and 25 is: \n",
      " 45\n"
     ]
    }
   ],
   "source": [
    "a = 20\n",
    "b = 25\n",
    "c = a + b\n",
    "print(\"The addition of 20 and 25 is: \\n\", c)"
   ]
  },
  {
   "cell_type": "code",
   "execution_count": 16,
   "metadata": {},
   "outputs": [
    {
     "name": "stdout",
     "output_type": "stream",
     "text": [
      "Your name is Kiran\n"
     ]
    }
   ],
   "source": [
    "#Taking User input\n",
    "user_name = input(\"Enter your name \")\n",
    "print(f\"Your name is {user_name}\")"
   ]
  },
  {
   "cell_type": "code",
   "execution_count": 29,
   "metadata": {},
   "outputs": [
    {
     "name": "stdout",
     "output_type": "stream",
     "text": [
      "10 + 5 = 50\n",
      "10 - 5 = 5\n",
      "10 * 5 = 50\n",
      "10 // 5 = 2\n"
     ]
    }
   ],
   "source": [
    "num_1 = int(input(\"Please enter any non-zero number: \"))\n",
    "num_2 = int(input(\"Please enter any non-zero number: \"))\n",
    "print(f\"{num_1} + {num_2} = {num_1 * num_2}\")\n",
    "print(f\"{num_1} - {num_2} = {num_1 - num_2}\")\n",
    "print(f\"{num_1} * {num_2} = {num_1 * num_2}\")\n",
    "print(f\"{num_1} // {num_2} = {num_1 // num_2}\")"
   ]
  },
  {
   "cell_type": "code",
   "execution_count": null,
   "metadata": {},
   "outputs": [],
   "source": []
  }
 ],
 "metadata": {
  "kernelspec": {
   "display_name": "Python 3",
   "language": "python",
   "name": "python3"
  },
  "language_info": {
   "codemirror_mode": {
    "name": "ipython",
    "version": 3
   },
   "file_extension": ".py",
   "mimetype": "text/x-python",
   "name": "python",
   "nbconvert_exporter": "python",
   "pygments_lexer": "ipython3",
   "version": "3.11.1"
  },
  "orig_nbformat": 4
 },
 "nbformat": 4,
 "nbformat_minor": 2
}
