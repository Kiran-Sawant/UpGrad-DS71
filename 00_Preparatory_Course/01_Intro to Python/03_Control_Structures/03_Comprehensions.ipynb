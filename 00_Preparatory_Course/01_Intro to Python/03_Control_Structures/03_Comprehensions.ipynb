{
 "cells": [
  {
   "cell_type": "code",
   "execution_count": null,
   "id": "a9d86220",
   "metadata": {},
   "outputs": [],
   "source": []
  },
  {
   "cell_type": "code",
   "execution_count": 2,
   "id": "f2cde136",
   "metadata": {},
   "outputs": [
    {
     "data": {
      "text/plain": [
       "[10, 5, 4, 6, 5]"
      ]
     },
     "execution_count": 2,
     "metadata": {},
     "output_type": "execute_result"
    }
   ],
   "source": [
    "list_1 = ['automobile', 'Honda', 'Benz', 'Suzuki', 'Volvo']\n",
    "list_2 = list()\n",
    "\n",
    "for word in list_1:\n",
    "    list_2.append(len(word))\n",
    "\n",
    "list_2"
   ]
  },
  {
   "cell_type": "code",
   "execution_count": 3,
   "id": "0e5b00ba",
   "metadata": {},
   "outputs": [
    {
     "data": {
      "text/plain": [
       "[10, 5, 4, 6, 5]"
      ]
     },
     "execution_count": 3,
     "metadata": {},
     "output_type": "execute_result"
    }
   ],
   "source": [
    "clist = list(len(word) for word in list_1)\n",
    "clist"
   ]
  },
  {
   "cell_type": "code",
   "execution_count": 5,
   "id": "b66297be",
   "metadata": {},
   "outputs": [
    {
     "name": "stdout",
     "output_type": "stream",
     "text": [
      "automobile : 10\n",
      "Honda : 5\n",
      "Benz : 4\n",
      "Suzuki : 6\n",
      "Volvo : 5\n"
     ]
    }
   ],
   "source": [
    "# Iterating through 2 lists simultaniously\n",
    "\n",
    "for i, j in zip(list_1, list_2):\n",
    "    print(i, ':', j)"
   ]
  },
  {
   "cell_type": "markdown",
   "id": "bd836bf1",
   "metadata": {},
   "source": [
    "## Dictionary comprehensions"
   ]
  },
  {
   "cell_type": "code",
   "execution_count": 7,
   "id": "2cef24b7",
   "metadata": {},
   "outputs": [
    {
     "data": {
      "text/plain": [
       "{'automobile': 10, 'Honda': 5, 'Benz': 4, 'Suzuki': 6, 'Volvo': 5}"
      ]
     },
     "execution_count": 7,
     "metadata": {},
     "output_type": "execute_result"
    }
   ],
   "source": [
    "cdict = {word:len(word) for word in list_1}\n",
    "cdict"
   ]
  },
  {
   "cell_type": "markdown",
   "id": "d70f71be",
   "metadata": {},
   "source": [
    "## Set comprehensions"
   ]
  },
  {
   "cell_type": "code",
   "execution_count": 10,
   "id": "5804ff1a",
   "metadata": {},
   "outputs": [
    {
     "name": "stdout",
     "output_type": "stream",
     "text": [
      "Enter a word: aeijhklne\n"
     ]
    }
   ],
   "source": [
    "word = input(\"Enter a word: \")"
   ]
  },
  {
   "cell_type": "code",
   "execution_count": 12,
   "id": "c48c4e03",
   "metadata": {},
   "outputs": [
    {
     "data": {
      "text/plain": [
       "{'a', 'e', 'i'}"
      ]
     },
     "execution_count": 12,
     "metadata": {},
     "output_type": "execute_result"
    }
   ],
   "source": [
    "vowels = set(char for char in word if char in 'AEIOUaeiou')\n",
    "vowels"
   ]
  }
 ],
 "metadata": {
  "kernelspec": {
   "display_name": "Python 3 (ipykernel)",
   "language": "python",
   "name": "python3"
  },
  "language_info": {
   "codemirror_mode": {
    "name": "ipython",
    "version": 3
   },
   "file_extension": ".py",
   "mimetype": "text/x-python",
   "name": "python",
   "nbconvert_exporter": "python",
   "pygments_lexer": "ipython3",
   "version": "3.11.4"
  }
 },
 "nbformat": 4,
 "nbformat_minor": 5
}
