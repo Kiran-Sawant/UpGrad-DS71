{
 "cells": [
  {
   "cell_type": "markdown",
   "id": "03aa573b",
   "metadata": {},
   "source": [
    "### Assignment\n",
    "\n",
    "In Python, = is used to assign values to variables and constants."
   ]
  },
  {
   "cell_type": "code",
   "execution_count": 1,
   "id": "1aecca47",
   "metadata": {},
   "outputs": [
    {
     "name": "stdout",
     "output_type": "stream",
     "text": [
      "a = 7, b = 5\n"
     ]
    }
   ],
   "source": [
    "a = 7\n",
    "b = 5\n",
    "\n",
    "print(f'a = {a}, b = {b}')"
   ]
  },
  {
   "cell_type": "markdown",
   "id": "285d5a66",
   "metadata": {},
   "source": [
    "### Addition"
   ]
  },
  {
   "cell_type": "code",
   "execution_count": 2,
   "id": "392f6adb",
   "metadata": {},
   "outputs": [
    {
     "name": "stdout",
     "output_type": "stream",
     "text": [
      "Summation of a and b = 12\n"
     ]
    }
   ],
   "source": [
    "add = a + b\n",
    "\n",
    "print(f\"Summation of a and b = {add}\")"
   ]
  },
  {
   "cell_type": "markdown",
   "id": "6039b669",
   "metadata": {},
   "source": [
    "### Subtraction"
   ]
  },
  {
   "cell_type": "code",
   "execution_count": 3,
   "id": "f19b5617",
   "metadata": {},
   "outputs": [
    {
     "name": "stdout",
     "output_type": "stream",
     "text": [
      "The subtraction between a and b is 2\n"
     ]
    }
   ],
   "source": [
    "diff = a - b\n",
    "\n",
    "print(f\"The subtraction between a and b is {diff}\")"
   ]
  },
  {
   "cell_type": "markdown",
   "id": "b6947520",
   "metadata": {},
   "source": [
    "### Multiplication"
   ]
  },
  {
   "cell_type": "code",
   "execution_count": 4,
   "id": "bad7e89a",
   "metadata": {},
   "outputs": [
    {
     "name": "stdout",
     "output_type": "stream",
     "text": [
      "The product of a and b = 35\n"
     ]
    }
   ],
   "source": [
    "prod = a * b\n",
    "\n",
    "print(f\"The product of a and b = {prod}\")"
   ]
  },
  {
   "cell_type": "markdown",
   "id": "010ce4f9",
   "metadata": {},
   "source": [
    "### Division"
   ]
  },
  {
   "cell_type": "code",
   "execution_count": 6,
   "id": "0bec06c2",
   "metadata": {},
   "outputs": [
    {
     "name": "stdout",
     "output_type": "stream",
     "text": [
      "The quotient of a/b is 1.4\n"
     ]
    }
   ],
   "source": [
    "divi = a/b\n",
    "\n",
    "print(f\"The quotient of a/b is {divi}\")"
   ]
  },
  {
   "cell_type": "markdown",
   "id": "f9c21e9f",
   "metadata": {},
   "source": [
    "### Floor division\n",
    "\n",
    "Floor division rounds off the floating point quotient to the smallest number possible.<br>\n",
    "i.e. if `x/y = 3.9, x//y = 3` <br> if `x/y = -3.9, x//y = -4`"
   ]
  },
  {
   "cell_type": "code",
   "execution_count": 18,
   "id": "c8ef33d3",
   "metadata": {},
   "outputs": [
    {
     "name": "stdout",
     "output_type": "stream",
     "text": [
      "The quotient of x/y = -3.9\n",
      "The floor quotient of x//y = -4.0\n"
     ]
    }
   ],
   "source": [
    "x, y = -19.5, 5 \n",
    "\n",
    "division = x/y\n",
    "floor = x//y\n",
    "\n",
    "print(f\"The quotient of x/y = {division}\")\n",
    "print(f\"The floor quotient of x//y = {floor_2}\")"
   ]
  },
  {
   "cell_type": "markdown",
   "id": "ecf22fb5",
   "metadata": {},
   "source": [
    "### Truncation\n",
    "\n",
    "truncation is simply dropping off the values after the decimal"
   ]
  },
  {
   "cell_type": "code",
   "execution_count": 24,
   "id": "20f06ac1",
   "metadata": {},
   "outputs": [
    {
     "name": "stdout",
     "output_type": "stream",
     "text": [
      "x/y = -3.9\n",
      "Truncation of x/y = -3\n"
     ]
    }
   ],
   "source": [
    "import math\n",
    "\n",
    "print(f\"x/y = {x/y}\")\n",
    "print(f\"Truncation of x/y = {math.trunc(x/y)}\")"
   ]
  },
  {
   "cell_type": "markdown",
   "id": "04efd933",
   "metadata": {},
   "source": [
    "### round\n",
    "\n",
    "round method simply rounds off the number to return a rational number like in classical mathematics."
   ]
  },
  {
   "cell_type": "code",
   "execution_count": 27,
   "id": "211f4f23",
   "metadata": {},
   "outputs": [
    {
     "name": "stdout",
     "output_type": "stream",
     "text": [
      "-4\n"
     ]
    }
   ],
   "source": [
    "print(round(x/y))"
   ]
  },
  {
   "cell_type": "markdown",
   "id": "ddfa6dfd",
   "metadata": {},
   "source": [
    "### Modulo\n",
    "\n",
    "A modulo will return the remainder of the truncated division of two numbers.<br>\n",
    "i.e. if we do a 5%2 the answer would be 1 as 5/2 = 2.5 therefore, it returnes the remainder after we get a quotient of 2"
   ]
  },
  {
   "cell_type": "code",
   "execution_count": 28,
   "id": "5e52eee8",
   "metadata": {},
   "outputs": [
    {
     "name": "stdout",
     "output_type": "stream",
     "text": [
      "5%2 = 1\n"
     ]
    }
   ],
   "source": [
    "i, j = 5, 2\n",
    "\n",
    "print(f\"5%2 = {5%2}\")"
   ]
  },
  {
   "cell_type": "markdown",
   "id": "ce03dc97",
   "metadata": {},
   "source": [
    "### Exponation\n",
    "\n",
    "Exponation is used to find out the squares or square roots of numbers. We use double astricks for this operation."
   ]
  },
  {
   "cell_type": "code",
   "execution_count": 42,
   "id": "f8b2f0c9",
   "metadata": {},
   "outputs": [
    {
     "name": "stdout",
     "output_type": "stream",
     "text": [
      "100 raised to 2 is 10000\n",
      "100 raised to 1/2 = 10.0\n"
     ]
    }
   ],
   "source": [
    "import fractions as fr\n",
    "\n",
    "k, m = 100, 2\n",
    "rt = fr.Fraction(1/2)\n",
    "\n",
    "print(f\"{k} raised to {m} is {k ** m}\")      # Finding square of 100\n",
    "print(f\"{k} raised to {rt} = {k ** rt}\")     # Finding square root of 100"
   ]
  },
  {
   "cell_type": "markdown",
   "id": "78e01418",
   "metadata": {},
   "source": [
    "### Operator Precedence\n",
    "\n",
    "Operator precedence is the order in which these arithmetic operators are applied in an expression.<br>\n",
    "Pythons operator precedence is as follows\n",
    "1.  Parenthesis\n",
    "2.  Exponation\n",
    "3.  Modulo\n",
    "4.  Multiplication, Division\n",
    "5.  Addition, Subtraction\n",
    "6.  NOT\n",
    "7.  AND\n",
    "8.  OR"
   ]
  },
  {
   "cell_type": "code",
   "execution_count": 35,
   "id": "f5a83572",
   "metadata": {},
   "outputs": [
    {
     "name": "stdout",
     "output_type": "stream",
     "text": [
      "68\n"
     ]
    }
   ],
   "source": [
    "# 4 + (8 ** 2) - 3 ** 2 % 1 \n",
    "# 4 + 64 - 3 ** 2 % 1\n",
    "# 4 + 64 - 9 % 1\n",
    "# 4 + 64 - 0\n",
    "# 68\n",
    "\n",
    "print(4 + (8 ** 2) - 3 ** 2 % 1)"
   ]
  },
  {
   "cell_type": "code",
   "execution_count": null,
   "id": "70e8075c",
   "metadata": {},
   "outputs": [],
   "source": []
  }
 ],
 "metadata": {
  "kernelspec": {
   "display_name": "Python 3 (ipykernel)",
   "language": "python",
   "name": "python3"
  },
  "language_info": {
   "codemirror_mode": {
    "name": "ipython",
    "version": 3
   },
   "file_extension": ".py",
   "mimetype": "text/x-python",
   "name": "python",
   "nbconvert_exporter": "python",
   "pygments_lexer": "ipython3",
   "version": "3.11.4"
  }
 },
 "nbformat": 4,
 "nbformat_minor": 5
}
