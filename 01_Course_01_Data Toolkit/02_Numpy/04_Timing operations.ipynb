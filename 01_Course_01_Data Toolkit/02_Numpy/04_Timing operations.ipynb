{
 "cells": [
  {
   "cell_type": "code",
   "execution_count": 2,
   "metadata": {},
   "outputs": [],
   "source": [
    "import time\n",
    "\n",
    "import numpy as np"
   ]
  },
  {
   "cell_type": "markdown",
   "metadata": {},
   "source": [
    "## Comparing time taken for computation\n",
    "\n",
    "We will be generating a list and a nparray of same size and compare the time it took for both operations."
   ]
  },
  {
   "cell_type": "code",
   "execution_count": 3,
   "metadata": {},
   "outputs": [],
   "source": [
    "'''Creating lists'''\n",
    "\n",
    "list_1 = [i for i in range(1000000)]\n",
    "list_2 = [j**2 for j in range(1000000)]"
   ]
  },
  {
   "cell_type": "code",
   "execution_count": null,
   "metadata": {},
   "outputs": [
    {
     "name": "stdout",
     "output_type": "stream",
     "text": [
      "0.12274670600891113\n"
     ]
    }
   ],
   "source": [
    "'''Operation on lists'''\n",
    "\n",
    "t0 = time.time()                                                    # capturing start time.\n",
    "\n",
    "product_list = list(map(lambda x, y: x*y, list_1, list_2))          # multiplication operation.\n",
    "\n",
    "t1 = time.time()                                                    # capturing end time.\n",
    "\n",
    "time_delta = t1 - t0\n",
    "print(time_delta)"
   ]
  },
  {
   "cell_type": "code",
   "execution_count": 5,
   "metadata": {},
   "outputs": [],
   "source": [
    "'''Creating numpy array'''\n",
    "\n",
    "array_1 = np.array(list_1)\n",
    "array_2 = np.array(list_2)"
   ]
  },
  {
   "cell_type": "code",
   "execution_count": 8,
   "metadata": {},
   "outputs": [
    {
     "name": "stdout",
     "output_type": "stream",
     "text": [
      "0.006001472473144531\n"
     ]
    }
   ],
   "source": [
    "'''Operation on nparrays'''\n",
    "\n",
    "t3 = time.time()\n",
    "\n",
    "product_numpy = array_1 * array_2\n",
    "\n",
    "t4 = time.time()\n",
    "\n",
    "numpy_time = t4 - t3\n",
    "print (numpy_time)"
   ]
  },
  {
   "cell_type": "code",
   "execution_count": 10,
   "metadata": {},
   "outputs": [
    {
     "name": "stdout",
     "output_type": "stream",
     "text": [
      "The ratio of time taken by list over nparray is 20.45\n"
     ]
    }
   ],
   "source": [
    "print(f\"The ratio of time taken by list over nparray is {time_delta/numpy_time:.2f}\")"
   ]
  },
  {
   "cell_type": "markdown",
   "metadata": {},
   "source": [
    "^ *Here, Numpy operation is 20x faster compared to list operation*"
   ]
  },
  {
   "cell_type": "markdown",
   "metadata": {},
   "source": [
    "In this case, numpy is **an order of magnitude faster** than lists. This is with arrays of size in millions, but you may work on much larger arrays of sizes in order of billions. Then, the difference is even larger.\n",
    "\n",
    "Some reasons for such difference in speed are:\n",
    "* NumPy is written in C, which is basically being executed behind the scenes\n",
    "* NumPy arrays are more compact than lists, i.e. they take much lesser storage space than lists\n",
    "\n",
    "\n",
    "The following discussions demonstrate the differences in speeds of NumPy and standard python:\n",
    "1. https://stackoverflow.com/questions/8385602/why-are-numpy-arrays-so-fast\n",
    "2. https://stackoverflow.com/questions/993984/why-numpy-instead-of-python-lists"
   ]
  },
  {
   "cell_type": "markdown",
   "metadata": {},
   "source": []
  }
 ],
 "metadata": {
  "kernelspec": {
   "display_name": "Python 3",
   "language": "python",
   "name": "python3"
  },
  "language_info": {
   "codemirror_mode": {
    "name": "ipython",
    "version": 3
   },
   "file_extension": ".py",
   "mimetype": "text/x-python",
   "name": "python",
   "nbconvert_exporter": "python",
   "pygments_lexer": "ipython3",
   "version": "3.11.4"
  },
  "orig_nbformat": 4
 },
 "nbformat": 4,
 "nbformat_minor": 2
}
