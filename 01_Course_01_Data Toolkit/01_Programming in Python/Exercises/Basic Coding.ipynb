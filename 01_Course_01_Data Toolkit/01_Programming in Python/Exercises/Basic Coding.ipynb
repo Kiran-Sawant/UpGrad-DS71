{
 "cells": [
  {
   "cell_type": "markdown",
   "metadata": {},
   "source": [
    "## Swapping\n",
    "\n",
    "You are given two integer variables,  x and y. You have to swap the values stored in x and y."
   ]
  },
  {
   "cell_type": "code",
   "execution_count": null,
   "metadata": {},
   "outputs": [
    {
     "name": "stdout",
     "output_type": "stream",
     "text": [
      "20 50\n",
      "50 20\n"
     ]
    }
   ],
   "source": [
    "# Input\n",
    "string = \"20,50\"\n",
    "\n",
    "z = 0                       # Initializing 3rd variable.\n",
    "x, y = eval(string)         # Extracting numbers from the string.\n",
    "\n",
    "print(x, y)\n",
    "\n",
    "# Swapping\n",
    "z = x\n",
    "x = y\n",
    "y = z\n",
    "\n",
    "print(x, y)"
   ]
  },
  {
   "cell_type": "markdown",
   "metadata": {},
   "source": [
    "## Odd Even\n",
    "\n",
    "Given an integer, print whether it is Even or Odd."
   ]
  },
  {
   "cell_type": "code",
   "execution_count": null,
   "metadata": {},
   "outputs": [
    {
     "data": {
      "text/plain": [
       "0"
      ]
     },
     "execution_count": 4,
     "metadata": {},
     "output_type": "execute_result"
    }
   ],
   "source": [
    "#Take input on your own\n",
    "num=int(input())\n",
    "\n",
    "if num % 2 == 0:\n",
    "    print(\"Even\")\n",
    "else:\n",
    "    print(\"Odd\")"
   ]
  },
  {
   "cell_type": "markdown",
   "metadata": {},
   "source": [
    "A number k is beautiful if it is of the form 3n+1, is pretty if it is of the form 3n+2 and is sexy if it is of form 3n.<br>\n",
    "Given a number k, print if it is beautiful, pretty or sexy."
   ]
  },
  {
   "cell_type": "code",
   "execution_count": null,
   "metadata": {},
   "outputs": [],
   "source": []
  },
  {
   "cell_type": "markdown",
   "metadata": {},
   "source": [
    "##  Alarm Clock\n",
    "\n",
    "You're trying to automate your alarm clock by writing a function for it.<br>You're given a day of the week encoded as 1=Mon, 2=Tue, ... 6=Sat, 7=Sun, and whether you are on vacation as a boolean value.<br>Based on the day and whether you're on vacation, write a function that returns a time in form of a string indicating when the alarm clock should ring.<br><br>\n",
    "\n",
    "When not on a vacation, on weekdays, the alarm should ring at \"7:00\" and on the weekends (Saturday and Sunday) it should ring at \"10:00\".<br><br>\n",
    "\n",
    "While on a vacation, it should ring at \"10:00\" on weekdays. On vacation, it should not ring on weekends, that is, it should return \"off\"."
   ]
  },
  {
   "cell_type": "code",
   "execution_count": null,
   "metadata": {},
   "outputs": [],
   "source": [
    "def alarm(day:int, vacation:bool) -> str:\n",
    "\n",
    "    time = ''\n",
    "\n",
    "    if vacation == True and day < 6:           # on vaca and weekday\n",
    "        time = '10:00'\n",
    "    elif vacation == True and day > 5:         # on vaca and weekend\n",
    "        time = 'off'\n",
    "    elif vacation == False and day < 6:        # no vaca and weekday\n",
    "        time = '7:00'\n",
    "    elif vacation == False and day > 5:        # no vaca and weekend\n",
    "        time = '10:00'\n",
    "    else:\n",
    "        time = '00:00'\n",
    "        \n",
    "    return time\n",
    "\n",
    "print(alarm(day_of_the_week, is_on_vacation))"
   ]
  },
  {
   "cell_type": "markdown",
   "metadata": {},
   "source": [
    "## Factorial"
   ]
  },
  {
   "cell_type": "code",
   "execution_count": 88,
   "metadata": {},
   "outputs": [
    {
     "name": "stdout",
     "output_type": "stream",
     "text": [
      "120\n"
     ]
    }
   ],
   "source": [
    "def factorial(n:int) -> int:\n",
    "    \n",
    "    start = 1\n",
    "    \n",
    "    if n < 0:\n",
    "        start = -1\n",
    "    elif n == 0:\n",
    "        start = 1\n",
    "    elif n > 0:\n",
    "        for i in range(1, n+1):\n",
    "            start *= i\n",
    "\n",
    "    return start\n",
    "\n",
    "k=factorial(5)\n",
    "print(k)"
   ]
  },
  {
   "cell_type": "markdown",
   "metadata": {},
   "source": [
    "## Reversing a number"
   ]
  },
  {
   "cell_type": "code",
   "execution_count": 6,
   "metadata": {},
   "outputs": [
    {
     "name": "stdout",
     "output_type": "stream",
     "text": [
      "8544\n"
     ]
    }
   ],
   "source": [
    "def reverse_number(num):\n",
    "  \"\"\"Reverses the digits of a given number.\n",
    "\n",
    "  Args:\n",
    "    num: The number to be reversed.\n",
    "\n",
    "  Returns:\n",
    "    The reversed number.\n",
    "  \"\"\"\n",
    "\n",
    "  reversed_num = 0\n",
    "  while num > 0:\n",
    "    digit = num % 10\n",
    "    reversed_num = reversed_num * 10 + digit\n",
    "    num //= 10\n",
    "  return reversed_num\n",
    "\n",
    "# Example usage:\n",
    "number = 4458\n",
    "reversed_number = reverse_number(number)\n",
    "print(reversed_number)"
   ]
  },
  {
   "cell_type": "markdown",
   "metadata": {},
   "source": [
    "## How many Chocolets\n",
    "\n",
    "Sanjay loves chocolates. He goes to a shop to buy his favourite chocolate. There he notices there is an offer going on, upon bringing 3 wrappers of the same chocolate, you will get new chocolate for free.<br>If Sanjay has m Rupees. How many chocolates will he be able to eat if each chocolate costs c Rupees?"
   ]
  },
  {
   "cell_type": "code",
   "execution_count": 1,
   "metadata": {},
   "outputs": [
    {
     "name": "stdout",
     "output_type": "stream",
     "text": [
      "Total chocolates: 4\n"
     ]
    }
   ],
   "source": [
    "#take input here\n",
    "money, cost = eval(input(\"Enter money, cost\"))\n",
    "\n",
    "#start writing your code here\n",
    "def calculate_chocolates(money, cost):\n",
    "  \"\"\"Calculates the total number of chocolates that can be eaten.\n",
    "\n",
    "  Args:\n",
    "    money: The total amount of money available.\n",
    "    cost: The cost of one chocolate.\n",
    "\n",
    "  Returns:\n",
    "    The total number of chocolates that can be eaten.\n",
    "  \"\"\"\n",
    "\n",
    "  chocolates = money // cost\n",
    "  wrappers = chocolates\n",
    "  while wrappers >= 3:\n",
    "    new_chocolates = wrappers // 3\n",
    "    chocolates += new_chocolates\n",
    "    wrappers = wrappers % 3 + new_chocolates\n",
    "  return chocolates\n",
    "\n",
    "total_chocolates = calculate_chocolates(money, cost)\n",
    "\n",
    "#dont forget to print the number of chocolates Sanjay can eat\n",
    "print(\"Total chocolates:\", total_chocolates)"
   ]
  },
  {
   "cell_type": "markdown",
   "metadata": {},
   "source": [
    "## Printing a Pattern"
   ]
  },
  {
   "cell_type": "code",
   "execution_count": 6,
   "metadata": {},
   "outputs": [
    {
     "name": "stdout",
     "output_type": "stream",
     "text": [
      "    *\n",
      "   *_*\n",
      "  *_*_*\n",
      " *_*_*_*\n",
      "*_*_*_*_*\n"
     ]
    }
   ],
   "source": [
    "def christmas_tree(n):\n",
    "  \"\"\"Generates a Christmas tree pattern with underscores.\n",
    "\n",
    "  Args:\n",
    "    n: The number of asterisks in the last line.\n",
    "  \"\"\"\n",
    "\n",
    "  for i in range(1, n + 1):\n",
    "    spaces = \" \" * (n - i)\n",
    "    stars = \"*\"\n",
    "    for j in range(1, i):\n",
    "      stars += \"_\" + \"*\"\n",
    "    print(spaces + stars)\n",
    "\n",
    "# Example usage:\n",
    "n = 5\n",
    "christmas_tree(n)"
   ]
  },
  {
   "cell_type": "markdown",
   "metadata": {},
   "source": [
    "## Smallest element in a list"
   ]
  },
  {
   "cell_type": "code",
   "execution_count": 8,
   "metadata": {},
   "outputs": [
    {
     "name": "stdout",
     "output_type": "stream",
     "text": [
      "-3\n"
     ]
    }
   ],
   "source": [
    "lst = [2, -3, 0, 7, 21]\n",
    "\n",
    "print(sorted(lst)[0])"
   ]
  },
  {
   "cell_type": "markdown",
   "metadata": {},
   "source": [
    "## Above Average\n",
    "\n",
    "Check if second list element is above average or not, then return a boolean for the same."
   ]
  },
  {
   "cell_type": "code",
   "execution_count": 11,
   "metadata": {},
   "outputs": [
    {
     "name": "stdout",
     "output_type": "stream",
     "text": [
      "False\n"
     ]
    }
   ],
   "source": [
    "import statistics\n",
    "\n",
    "lst = [ [2,4,6,8,10],  4]\n",
    "\n",
    "avg = statistics.mean(lst[0])\n",
    "\n",
    "print(lst[1] > avg)"
   ]
  },
  {
   "cell_type": "markdown",
   "metadata": {},
   "source": [
    "## Recruit New Members"
   ]
  },
  {
   "cell_type": "code",
   "execution_count": 15,
   "metadata": {},
   "outputs": [
    {
     "name": "stdout",
     "output_type": "stream",
     "text": [
      "[10, 20, 30, 40, 50, 60, 80]\n"
     ]
    }
   ],
   "source": [
    "def add_greater_to_first(list1, list2):\n",
    "  \"\"\"Adds elements from list2 to list1 if they're greater than list1's average.\n",
    "\n",
    "  Args:\n",
    "    list1: The first list of integers.\n",
    "    list2: The second list of integers.\n",
    "\n",
    "  Returns:\n",
    "    The modified first list.\n",
    "  \"\"\"\n",
    "\n",
    "  \n",
    "  for num in list2:\n",
    "    avg = sum(list1) / len(list1)\n",
    "    \n",
    "    if num > avg:\n",
    "      list1.append(num)\n",
    "  return list1\n",
    "\n",
    "# Example usage:\n",
    "list1 = [10,20,30,40,50]\n",
    "list2 = [30,60,80,40]\n",
    "result = add_greater_to_first(list1, list2)\n",
    "print(result)"
   ]
  },
  {
   "cell_type": "markdown",
   "metadata": {},
   "source": [
    "## Calendar\n",
    "\n",
    "Write a python code where one input will contain a list of lists where each sub-list has only two elements representing the start and end date of an event, the start date will be less than or equal to the end date. The next input will have an integer representing a wedding date.<br><br>\n",
    "\n",
    "The output should have the number of events overlapping with the wedding date."
   ]
  },
  {
   "cell_type": "code",
   "execution_count": null,
   "metadata": {},
   "outputs": [
    {
     "name": "stdout",
     "output_type": "stream",
     "text": [
      "1\n"
     ]
    }
   ],
   "source": [
    "events = [[1, 5], [2, 3], [4, 6], [7, 8]]\n",
    "wedding = 7\n",
    "\n",
    "#start writing from here\n",
    "def count_overlapping_events(events, wedding_date):\n",
    "\n",
    "  count = 0\n",
    "  for start_date, end_date in events:\n",
    "    if start_date <= wedding_date <= end_date:\n",
    "      count += 1\n",
    "  return count\n",
    "\n",
    "result = count_overlapping_events(events, wedding)\n",
    "print(result)"
   ]
  },
  {
   "cell_type": "markdown",
   "metadata": {},
   "source": [
    "## Fenced Matrix"
   ]
  },
  {
   "cell_type": "code",
   "execution_count": 17,
   "metadata": {},
   "outputs": [
    {
     "name": "stdout",
     "output_type": "stream",
     "text": [
      "[1, 1, 1, 1, 1, 1]\n",
      "[1, 0, 0, 0, 0, 1]\n",
      "[1, 0, 0, 0, 0, 1]\n",
      "[1, 1, 1, 1, 1, 1]\n"
     ]
    }
   ],
   "source": [
    "def create_matrix(m, n):\n",
    "  \"\"\"Creates an m x n matrix with 1s on the border and 0s inside.\n",
    "\n",
    "  Args:\n",
    "    m: The number of rows.\n",
    "    n: The number of columns.\n",
    "\n",
    "  Returns:\n",
    "    A list of lists representing the matrix.\n",
    "  \"\"\"\n",
    "\n",
    "  matrix = [[0] * n for _ in range(m)]\n",
    "\n",
    "  # Set border elements to 1\n",
    "  for i in range(m):\n",
    "    matrix[i][0] = 1\n",
    "    matrix[i][-1] = 1\n",
    "  for j in range(n):\n",
    "    matrix[0][j] = 1\n",
    "    matrix[-1][j] = 1\n",
    "\n",
    "  return matrix\n",
    "\n",
    "# Example usage:\n",
    "m, n = map(int, input(\"Enter m and n separated by a comma: \").split(','))\n",
    "result = create_matrix(m, n)\n",
    "\n",
    "for row in result:\n",
    "  print(row)"
   ]
  },
  {
   "cell_type": "markdown",
   "metadata": {},
   "source": [
    "## Palindrome"
   ]
  },
  {
   "cell_type": "code",
   "execution_count": null,
   "metadata": {},
   "outputs": [
    {
     "name": "stdout",
     "output_type": "stream",
     "text": [
      "3\n"
     ]
    }
   ],
   "source": [
    "def is_palindrome(string):\n",
    "\n",
    "  # Convert the string to lowercase for case-insensitivity\n",
    "  string = string.lower()\n",
    "\n",
    "  # Compare characters from both ends\n",
    "  left = 0\n",
    "  right = len(string) - 1\n",
    "  while left < right:\n",
    "    if string[left] != string[right]:\n",
    "      return 0\n",
    "    left += 1\n",
    "    right -= 1\n",
    "\n",
    "  return 1\n",
    "\n",
    "# Example usage:\n",
    "string = \"HAnnah\"\n",
    "result = is_palindrome(string)\n",
    "print(result)  # Output: 1"
   ]
  },
  {
   "cell_type": "markdown",
   "metadata": {},
   "source": [
    "## Reverse Words\n",
    "\n",
    "You will be given a sentence in the form of a string.<br>You have to reverse the order of the words in the sentence.<br>Remember not to reverse the individual words, but the order of words.<br>Check the sample input-output for further clarification."
   ]
  },
  {
   "cell_type": "code",
   "execution_count": 25,
   "metadata": {},
   "outputs": [
    {
     "name": "stdout",
     "output_type": "stream",
     "text": [
      "spaces. few a of consist will which string, A\n"
     ]
    }
   ],
   "source": [
    "def reverser(sentence:str) -> str:\n",
    "\n",
    "    word_list = sentence.split(' ')\n",
    "    rev_list = reversed(word_list)\n",
    "    rev_sentence = \" \".join(rev_list)\n",
    "\n",
    "    return rev_sentence\n",
    "\n",
    "print(reverser(\"A string, which will consist of a few spaces.\"))"
   ]
  },
  {
   "cell_type": "code",
   "execution_count": 26,
   "metadata": {},
   "outputs": [
    {
     "name": "stdout",
     "output_type": "stream",
     "text": [
      "<reversed object at 0x000002AB7ADCC5E0>\n",
      "n\n",
      "a\n",
      "r\n",
      "i\n",
      "K\n"
     ]
    }
   ],
   "source": [
    "k = reversed(\"Kiran\")\n",
    "\n",
    "print(k)\n",
    "for i in k:\n",
    "    print(i)"
   ]
  },
  {
   "cell_type": "markdown",
   "metadata": {},
   "source": [
    "## No Spaces\n",
    "\n",
    "You have to write a code that will add underscore in place of spaces and also capitalise the letters properly, i.e. the first letter after underscore should be in upper case and the first letter of the string should be in upper case, all of the other letters should be lower case. "
   ]
  },
  {
   "cell_type": "code",
   "execution_count": 38,
   "metadata": {},
   "outputs": [
    {
     "name": "stdout",
     "output_type": "stream",
     "text": [
      "Calorie_Consumed\n"
     ]
    }
   ],
   "source": [
    "def under_capitalizer(sentence:str) -> str:\n",
    "\n",
    "    title_case = list(x.title() for x in list(x.lower() for x in sentence.split(' ')))\n",
    "\n",
    "    return '_'.join(title_case)\n",
    "\n",
    "print(under_capitalizer('caloRie consuMed'))\n"
   ]
  },
  {
   "cell_type": "markdown",
   "metadata": {},
   "source": [
    "## Shift Vowels\n",
    "\n",
    "Write a program that receives a string and shifts all the vowels present in it to the beginning.<br>Output the resultant string.<br>The order of all the vowels with respect to each other as well as the order of all the other characters with respect to each other should stay the same."
   ]
  },
  {
   "cell_type": "code",
   "execution_count": 41,
   "metadata": {},
   "outputs": [
    {
     "name": "stdout",
     "output_type": "stream",
     "text": [
      "ouoeoY lv Pythn!\n"
     ]
    }
   ],
   "source": [
    "def shifter(word:str) -> str:\n",
    "\n",
    "    vowel = ''\n",
    "    no_vowel = ''\n",
    "\n",
    "    for i in word:\n",
    "        if i in 'aeiouAEIOU':\n",
    "            vowel += i\n",
    "        else:\n",
    "            no_vowel += i\n",
    "    \n",
    "    return vowel + no_vowel\n",
    "\n",
    "print(shifter('You love Python!'))\n"
   ]
  },
  {
   "cell_type": "markdown",
   "metadata": {},
   "source": [
    "## Common Prefix\n",
    "\n",
    "You will be given two strings. You have to find the largest prefix common in both the strings."
   ]
  },
  {
   "cell_type": "code",
   "execution_count": 49,
   "metadata": {},
   "outputs": [
    {
     "name": "stdout",
     "output_type": "stream",
     "text": [
      "upgrad\n"
     ]
    }
   ],
   "source": [
    "def prefix(word1:str, word2:str) -> str:\n",
    "\n",
    "    common_prefix = ''\n",
    "\n",
    "    if len(word1) > len(word2):\n",
    "        for i in range(len(word2)):\n",
    "            if word1[i].lower() == word2[i].lower():\n",
    "                common_prefix += word1[i]\n",
    "            else:\n",
    "                break\n",
    "    else:\n",
    "        for i in range(len(word1)):\n",
    "            if word1[i].lower() == word2[i].lower():\n",
    "                common_prefix += word1[i]\n",
    "            else:\n",
    "                break\n",
    "    \n",
    "    return common_prefix\n",
    "\n",
    "print(prefix('upgradData', 'upGradScience'))"
   ]
  },
  {
   "cell_type": "markdown",
   "metadata": {},
   "source": [
    "## Anagrams\n",
    "\n",
    "Two strings are anagrams of each other if you can rearrange the characters of one string to make the other string.<br>\n",
    "Given two strings, can you find if they are anagrams or no?"
   ]
  },
  {
   "cell_type": "code",
   "execution_count": 50,
   "metadata": {},
   "outputs": [
    {
     "name": "stdout",
     "output_type": "stream",
     "text": [
      "True\n"
     ]
    }
   ],
   "source": [
    "def is_anagram(str1, str2):\n",
    "  \"\"\"Checks if two strings are anagrams.\n",
    "\n",
    "  Args:\n",
    "    str1: The first string.\n",
    "    str2: The second string.\n",
    "\n",
    "  Returns:\n",
    "    True if the strings are anagrams, False otherwise.   \n",
    "\n",
    "  \"\"\"\n",
    "\n",
    "  if len(str1) != len(str2):\n",
    "    return False\n",
    "\n",
    "  # Create character frequency dictionaries for both strings\n",
    "  char_count1 = {}\n",
    "  char_count2 = {}\n",
    "\n",
    "  for char in str1:\n",
    "    char_count1[char] = char_count1.get(char, 0) + 1\n",
    "\n",
    "  for char in str2:\n",
    "    char_count2[char] = char_count2.get(char, 0) + 1\n",
    "\n",
    "  return char_count1 == char_count2\n",
    "\n",
    "str1 = \"thing\"\n",
    "str2 = \"night\"\n",
    "\n",
    "# Check if they are anagrams\n",
    "if is_anagram(str1, str2):\n",
    "  print(\"True\")\n",
    "else:\n",
    "  print(\"False\")"
   ]
  },
  {
   "cell_type": "markdown",
   "metadata": {},
   "source": [
    "## Remove Duplicates\n",
    "\n",
    "you will be given a list. You have to find and delete the duplicates and print the updated list with no duplicates."
   ]
  },
  {
   "cell_type": "code",
   "execution_count": 68,
   "metadata": {},
   "outputs": [
    {
     "name": "stdout",
     "output_type": "stream",
     "text": [
      "[8, 9, 2, 3, 4, 5]\n"
     ]
    }
   ],
   "source": [
    "def remove_duplicates(lst):\n",
    "\n",
    "  unique_list = []\n",
    "  for item in lst:\n",
    "    if item not in unique_list:\n",
    "      unique_list.append(item)\n",
    "  return unique_list\n",
    "\n",
    "print(remove_duplicates([8, 9, 2, 2, 3, 4, 5, 2]))"
   ]
  },
  {
   "cell_type": "markdown",
   "metadata": {},
   "source": [
    "## Dictionary And List\n",
    "\n",
    "Convert a dictionary of string(keys) and list of string (values),  to a list of strings."
   ]
  },
  {
   "cell_type": "code",
   "execution_count": 69,
   "metadata": {},
   "outputs": [],
   "source": [
    "def flatten_dict(input_dict):\n",
    "  \"\"\"Flattens a nested dictionary into a list of strings.\n",
    "\n",
    "  Args:\n",
    "    input_dict: The nested dictionary.\n",
    "\n",
    "  Returns:\n",
    "    A list of strings.\n",
    "  \"\"\"\n",
    "\n",
    "  flattened_list = []\n",
    "  for key, values in input_dict.items():\n",
    "    for value in values:\n",
    "      flattened_list.append(f\"{key}_{value}\")\n",
    "  return flattened_list"
   ]
  },
  {
   "cell_type": "code",
   "execution_count": 70,
   "metadata": {},
   "outputs": [
    {
     "name": "stdout",
     "output_type": "stream",
     "text": [
      "['Mobile_Redmi', 'Mobile_Samsung', 'Mobile_Realme', 'Laptop_Dell', 'Laptop_HP', 'TV_Videocon', 'TV_Sony']\n"
     ]
    }
   ],
   "source": [
    "input_dict = {'Mobile': ['Redmi', 'Samsung', 'Realme'],\n",
    "              'Laptop': ['Dell', 'HP'],\n",
    "              'TV': ['Videocon', 'Sony']}\n",
    "\n",
    "output_list = flatten_dict(input_dict)\n",
    "\n",
    "print(output_list)"
   ]
  },
  {
   "cell_type": "markdown",
   "metadata": {},
   "source": [
    "## UpGrad String\n",
    "\n",
    "We will define something called an upGrad string.<br>A string is upGrad string if the frequency of its characters is something like 1, 2, 3, 4, ....<br>That is a character appears only once, another appears twice, another appears thrice and so on.<br>For example string '$yrr$ssrsr' is a upGrad string since the frequency of y:1, $:2, s:3, r:4, however string '$yrr$ssrsr%' will not be an upGrad string since it has two characters (y and %) with frequency 1.<br>The frequency of characters should be of form 1, 2, 3, 4, 5... only"
   ]
  },
  {
   "cell_type": "code",
   "execution_count": 85,
   "metadata": {},
   "outputs": [
    {
     "name": "stdout",
     "output_type": "stream",
     "text": [
      "True\n",
      "False\n"
     ]
    }
   ],
   "source": [
    "from collections import Counter\n",
    "\n",
    "def is_upgrad_string(s):\n",
    "    # Calculate the frequency of each character\n",
    "    freq = Counter(s)\n",
    "    \n",
    "    # Get the frequency values and sort them\n",
    "    freq_values = sorted(freq.values())\n",
    "    \n",
    "    # Check if the frequencies match the pattern 1, 2, 3, 4, ...\n",
    "    for i in range(len(freq_values)):\n",
    "        if freq_values[i] != i + 1:\n",
    "            return False\n",
    "    return True\n",
    "\n",
    "# Test cases\n",
    "test_str1 = '$yrr$ssrsr'\n",
    "test_str2 = '$yrr$ssrsr%'\n",
    "\n",
    "print(is_upgrad_string(test_str1))  # Output: True\n",
    "print(is_upgrad_string(test_str2))  # Output: False\n",
    "\n",
    "\n",
    "\n"
   ]
  },
  {
   "cell_type": "markdown",
   "metadata": {},
   "source": [
    "## Balanced\n",
    "\n",
    "You will be given a string with a lot of brackets.<br>You have to print if the brackets are balanced or not.<br>Remember, there are three types of brackets: ‘( )’,  ‘{ }’ and ‘[ ]’."
   ]
  },
  {
   "cell_type": "code",
   "execution_count": null,
   "metadata": {},
   "outputs": [
    {
     "name": "stdout",
     "output_type": "stream",
     "text": [
      "No\n"
     ]
    }
   ],
   "source": [
    "brac = '''[](){[]()(){}}'''\n",
    "\n",
    "# Initiating a stack\n",
    "stack = list()\n",
    "\n",
    "for i in brac:\n",
    "\n",
    "    if len(stack) == 0:\n",
    "        stack.append(i)                                 # Pusing i to stack\n",
    "    else:\n",
    "        if i == ')' and stack[-1] == '(':               # popping i if a match is found\n",
    "            stack.pop()\n",
    "        elif i == ']' and stack[-1] == '[':\n",
    "            stack.pop()\n",
    "        elif i == '}' and stack[-1] == '{':\n",
    "            stack.pop()\n",
    "        else:                                           # append i to stack if opposite pair is not in stack\n",
    "            stack.append(i)\n",
    "\n",
    "if stack:                                               # if len(stack) > 0\n",
    "    print(\"No, it's not balanced\")\n",
    "else:\n",
    "    print('Yes, its balanced')\n"
   ]
  },
  {
   "cell_type": "code",
   "execution_count": null,
   "metadata": {},
   "outputs": [],
   "source": []
  }
 ],
 "metadata": {
  "kernelspec": {
   "display_name": "Python 3",
   "language": "python",
   "name": "python3"
  },
  "language_info": {
   "codemirror_mode": {
    "name": "ipython",
    "version": 3
   },
   "file_extension": ".py",
   "mimetype": "text/x-python",
   "name": "python",
   "nbconvert_exporter": "python",
   "pygments_lexer": "ipython3",
   "version": "3.11.4"
  }
 },
 "nbformat": 4,
 "nbformat_minor": 2
}
