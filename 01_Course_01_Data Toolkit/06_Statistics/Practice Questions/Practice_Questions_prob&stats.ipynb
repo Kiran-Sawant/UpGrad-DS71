{
 "cells": [
  {
   "cell_type": "markdown",
   "metadata": {},
   "source": [
    "# Basics of Probablity"
   ]
  },
  {
   "cell_type": "code",
   "execution_count": 1,
   "metadata": {},
   "outputs": [],
   "source": [
    "import os\n",
    "\n",
    "import pandas as pd\n",
    "import numpy as np"
   ]
  },
  {
   "cell_type": "code",
   "execution_count": 26,
   "metadata": {},
   "outputs": [
    {
     "data": {
      "text/html": [
       "<div>\n",
       "<style scoped>\n",
       "    .dataframe tbody tr th:only-of-type {\n",
       "        vertical-align: middle;\n",
       "    }\n",
       "\n",
       "    .dataframe tbody tr th {\n",
       "        vertical-align: top;\n",
       "    }\n",
       "\n",
       "    .dataframe thead th {\n",
       "        text-align: right;\n",
       "    }\n",
       "</style>\n",
       "<table border=\"1\" class=\"dataframe\">\n",
       "  <thead>\n",
       "    <tr style=\"text-align: right;\">\n",
       "      <th></th>\n",
       "      <th>Customer No.</th>\n",
       "      <th>Exposure at Default (in lakh Rs.)</th>\n",
       "      <th>Recovery (%)</th>\n",
       "      <th>Probability of Default</th>\n",
       "    </tr>\n",
       "  </thead>\n",
       "  <tbody>\n",
       "    <tr>\n",
       "      <th>0</th>\n",
       "      <td>1</td>\n",
       "      <td>11.50</td>\n",
       "      <td>20.00%</td>\n",
       "      <td>0.0070</td>\n",
       "    </tr>\n",
       "    <tr>\n",
       "      <th>1</th>\n",
       "      <td>2</td>\n",
       "      <td>0.24</td>\n",
       "      <td>5.10%</td>\n",
       "      <td>0.0033</td>\n",
       "    </tr>\n",
       "    <tr>\n",
       "      <th>2</th>\n",
       "      <td>3</td>\n",
       "      <td>0.04</td>\n",
       "      <td>24.86%</td>\n",
       "      <td>0.0022</td>\n",
       "    </tr>\n",
       "  </tbody>\n",
       "</table>\n",
       "</div>"
      ],
      "text/plain": [
       "   Customer No.  Exposure at Default (in lakh Rs.) Recovery (%)  \\\n",
       "0             1                              11.50       20.00%   \n",
       "1             2                               0.24        5.10%   \n",
       "2             3                               0.04       24.86%   \n",
       "\n",
       "   Probability of Default  \n",
       "0                  0.0070  \n",
       "1                  0.0033  \n",
       "2                  0.0022  "
      ]
     },
     "execution_count": 26,
     "metadata": {},
     "output_type": "execute_result"
    }
   ],
   "source": [
    "path = os.path.join('datasets', 'Student Loan.csv')\n",
    "\n",
    "loan_1 = pd.read_csv(path)\n",
    "loan_1.drop(['Unnamed: 4', 'Unnamed: 5'], axis=1, inplace=True)\n",
    "loan_1.head(3)"
   ]
  },
  {
   "cell_type": "code",
   "execution_count": 3,
   "metadata": {},
   "outputs": [
    {
     "name": "stdout",
     "output_type": "stream",
     "text": [
      "<class 'pandas.core.frame.DataFrame'>\n",
      "RangeIndex: 10000 entries, 0 to 9999\n",
      "Data columns (total 4 columns):\n",
      " #   Column                             Non-Null Count  Dtype  \n",
      "---  ------                             --------------  -----  \n",
      " 0   Customer No.                       10000 non-null  int64  \n",
      " 1   Exposure at Default (in lakh Rs.)  10000 non-null  float64\n",
      " 2   Recovery (%)                       10000 non-null  object \n",
      " 3   Probability of Default             10000 non-null  float64\n",
      "dtypes: float64(2), int64(1), object(1)\n",
      "memory usage: 312.6+ KB\n"
     ]
    }
   ],
   "source": [
    "loan_1.info()"
   ]
  },
  {
   "cell_type": "code",
   "execution_count": null,
   "metadata": {},
   "outputs": [
    {
     "name": "stderr",
     "output_type": "stream",
     "text": [
      "C:\\Users\\kbsaw\\AppData\\Local\\Temp\\ipykernel_22380\\2155893635.py:3: SettingWithCopyWarning: \n",
      "A value is trying to be set on a copy of a slice from a DataFrame.\n",
      "Try using .loc[row_indexer,col_indexer] = value instead\n",
      "\n",
      "See the caveats in the documentation: https://pandas.pydata.org/pandas-docs/stable/user_guide/indexing.html#returning-a-view-versus-a-copy\n",
      "  temp['Recovery (%)'] = temp['Recovery (%)'].apply(lambda x: float(x.rstrip('%')))\n",
      "C:\\Users\\kbsaw\\AppData\\Local\\Temp\\ipykernel_22380\\2155893635.py:8: SettingWithCopyWarning: \n",
      "A value is trying to be set on a copy of a slice from a DataFrame.\n",
      "Try using .loc[row_indexer,col_indexer] = value instead\n",
      "\n",
      "See the caveats in the documentation: https://pandas.pydata.org/pandas-docs/stable/user_guide/indexing.html#returning-a-view-versus-a-copy\n",
      "  temp['loss_On_Default'] = temp['Exposure at Default (in lakh Rs.)'] - (temp['Exposure at Default (in lakh Rs.)'] * temp['Recovery (%)'])\n",
      "C:\\Users\\kbsaw\\AppData\\Local\\Temp\\ipykernel_22380\\2155893635.py:10: SettingWithCopyWarning: \n",
      "A value is trying to be set on a copy of a slice from a DataFrame.\n",
      "Try using .loc[row_indexer,col_indexer] = value instead\n",
      "\n",
      "See the caveats in the documentation: https://pandas.pydata.org/pandas-docs/stable/user_guide/indexing.html#returning-a-view-versus-a-copy\n",
      "  temp['expected_loss'] = temp['loss_On_Default'] * temp['Probability of Default']\n"
     ]
    },
    {
     "data": {
      "text/plain": [
       "-1.75043482"
      ]
     },
     "execution_count": 19,
     "metadata": {},
     "output_type": "execute_result"
    }
   ],
   "source": [
    "# Creating a temporary table for testing\n",
    "temp = loan_1.head(5)\n",
    "\n",
    "# Converting recovery column from string to float\n",
    "temp['Recovery (%)'] = temp['Recovery (%)'].apply(lambda x: float(x.rstrip('%')))\n",
    "\n",
    "# setting customer ID as index\n",
    "temp.index = temp['Customer No.']\n",
    "temp.drop(columns=['Customer No.'])\n",
    "\n",
    "# Converting to lachs\n",
    "temp['Exposure at Default (in lakh Rs.)'] = temp['Exposure at Default (in lakh Rs.)'] * 100000\n",
    "\n",
    "# Calculating loff of bank if default\n",
    "temp['loss_On_Default'] = temp['Exposure at Default (in lakh Rs.)'] - (temp['Exposure at Default (in lakh Rs.)'] * temp['Recovery (%)'])\n",
    "\n",
    "# Calculating Expected value for each row..\n",
    "temp['expected_loss'] = temp['loss_On_Default'] * temp['Probability of Default']\n",
    "\n",
    "# calculating the total expected loss on portfolio\n",
    "temp.expected_loss.sum()"
   ]
  },
  {
   "cell_type": "markdown",
   "metadata": {},
   "source": [
    "### Applying the temp steps to actual dataframe"
   ]
  },
  {
   "cell_type": "code",
   "execution_count": null,
   "metadata": {},
   "outputs": [
    {
     "data": {
      "text/plain": [
       "49339131.440620005"
      ]
     },
     "execution_count": 27,
     "metadata": {},
     "output_type": "execute_result"
    }
   ],
   "source": [
    "# Converting recovery column from string to float\n",
    "loan_1['Recovery (%)'] = loan_1['Recovery (%)'].apply(lambda x: float(x.rstrip('%')))\n",
    "\n",
    "# Converting from actual to mathematical percentage.\n",
    "loan_1['Recovery (%)'] = loan_1['Recovery (%)'] / 100\n",
    "\n",
    "# Converting to Lachs\n",
    "loan_1['Exposure at Default (in lakh Rs.)'] = loan_1['Exposure at Default (in lakh Rs.)'] * 100000\n",
    "\n",
    "# Calculating loss of bank if default\n",
    "loan_1['loss_On_Default'] = loan_1['Exposure at Default (in lakh Rs.)'] - (loan_1['Exposure at Default (in lakh Rs.)'] * loan_1['Recovery (%)'])\n",
    "\n",
    "# Calculating Expected value for each row.\n",
    "loan_1['expected_loss'] = loan_1['loss_On_Default'] * loan_1['Probability of Default']\n",
    "\n",
    "# calculating the total expected loss on portfolio\n",
    "loan_1.expected_loss.sum()"
   ]
  },
  {
   "cell_type": "code",
   "execution_count": null,
   "metadata": {},
   "outputs": [],
   "source": []
  }
 ],
 "metadata": {
  "kernelspec": {
   "display_name": "Python 3",
   "language": "python",
   "name": "python3"
  },
  "language_info": {
   "codemirror_mode": {
    "name": "ipython",
    "version": 3
   },
   "file_extension": ".py",
   "mimetype": "text/x-python",
   "name": "python",
   "nbconvert_exporter": "python",
   "pygments_lexer": "ipython3",
   "version": "3.11.4"
  }
 },
 "nbformat": 4,
 "nbformat_minor": 2
}
