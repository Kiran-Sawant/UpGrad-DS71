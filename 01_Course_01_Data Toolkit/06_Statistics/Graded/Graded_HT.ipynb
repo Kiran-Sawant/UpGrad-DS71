{
 "cells": [
  {
   "cell_type": "markdown",
   "metadata": {},
   "source": [
    "Suppose that you're working for Hotstar. In the past month, there has been a considerable/tremendous rise in subscription for their product 'Hotstar Premium'.<br>The analysts in the company claim that the subscription increased mainly due to the premiere of Game of Thrones which is going to happen soon.<br>However, some of them believe that this might not be the sole reason because then people would buy it just 1 or 2 days before the premiere.<br>So there might also be some other reason for the spiked membership. The lead business analyst in your company then claims that at least 60% of the past month subscriptions are due to the premiere of 'Game of Thrones'. \n",
    "\n",
    "To test this claim you send a survey to some of the users who have purchased the membership in the past month to which 121 users replied.<br>The data for the same has been provided in the Excel below.<br>A '1' in column two indicates that they bought the subscription because of 'Game of Thrones' and 0 indicates that they bought it for other reasons.<br>Based on the data answer the following questions."
   ]
  },
  {
   "cell_type": "markdown",
   "metadata": {},
   "source": [
    "Z-Score<br>\n",
    "Suppose that the null and alternate hypothesis that you framed in this case are:\n",
    "\n",
    "$H_0$: Percentage of users who bought the subscription for Game of Thrones $≥ 60%$<br>\n",
    "\n",
    "$H_A$: Percentage of users who bought the subscription for Game of Thrones $< 60%$\n",
    "\n",
    "Calculate the approximate value of Z-score using the data as the first step to evaluate your hypothesis."
   ]
  },
  {
   "cell_type": "markdown",
   "metadata": {},
   "source": [
    "$\\mu$ = 0.6 <br>\n",
    "$n$ = 121"
   ]
  },
  {
   "cell_type": "code",
   "execution_count": 34,
   "metadata": {},
   "outputs": [],
   "source": [
    "import os\n",
    "import statistics as stat\n",
    "import math\n",
    "import scipy.stats as scistat\n",
    "\n",
    "import pandas as pd\n",
    "import numpy as np\n",
    "\n",
    "path = os.path.join('Datasets', 'Hotstar_Data.xlsx')"
   ]
  },
  {
   "cell_type": "code",
   "execution_count": 17,
   "metadata": {},
   "outputs": [
    {
     "data": {
      "text/html": [
       "<div>\n",
       "<style scoped>\n",
       "    .dataframe tbody tr th:only-of-type {\n",
       "        vertical-align: middle;\n",
       "    }\n",
       "\n",
       "    .dataframe tbody tr th {\n",
       "        vertical-align: top;\n",
       "    }\n",
       "\n",
       "    .dataframe thead th {\n",
       "        text-align: right;\n",
       "    }\n",
       "</style>\n",
       "<table border=\"1\" class=\"dataframe\">\n",
       "  <thead>\n",
       "    <tr style=\"text-align: right;\">\n",
       "      <th></th>\n",
       "      <th>Customer ID</th>\n",
       "      <th>Why did you purchase Hotstar Premium?</th>\n",
       "    </tr>\n",
       "  </thead>\n",
       "  <tbody>\n",
       "    <tr>\n",
       "      <th>0</th>\n",
       "      <td>84934</td>\n",
       "      <td>0</td>\n",
       "    </tr>\n",
       "    <tr>\n",
       "      <th>1</th>\n",
       "      <td>63836</td>\n",
       "      <td>1</td>\n",
       "    </tr>\n",
       "    <tr>\n",
       "      <th>2</th>\n",
       "      <td>92939</td>\n",
       "      <td>1</td>\n",
       "    </tr>\n",
       "  </tbody>\n",
       "</table>\n",
       "</div>"
      ],
      "text/plain": [
       "   Customer ID  Why did you purchase Hotstar Premium?\n",
       "0        84934                                      0\n",
       "1        63836                                      1\n",
       "2        92939                                      1"
      ]
     },
     "execution_count": 17,
     "metadata": {},
     "output_type": "execute_result"
    }
   ],
   "source": [
    "inp0 = pd.read_excel(path)\n",
    "inp0.head(3)"
   ]
  },
  {
   "cell_type": "code",
   "execution_count": 30,
   "metadata": {},
   "outputs": [
    {
     "name": "stdout",
     "output_type": "stream",
     "text": [
      "0.52\n",
      "0.5\n"
     ]
    }
   ],
   "source": [
    "sample_mean = round(inp0['Why did you purchase Hotstar Premium?'].mean(), 2)\n",
    "sample_stddev = round(stat.pstdev(inp0['Why did you purchase Hotstar Premium?']), 2)\n",
    "\n",
    "print(sample_mean)\n",
    "print(sample_stddev)"
   ]
  },
  {
   "cell_type": "code",
   "execution_count": 33,
   "metadata": {},
   "outputs": [
    {
     "data": {
      "text/plain": [
       "-1.7599999999999991"
      ]
     },
     "execution_count": 33,
     "metadata": {},
     "output_type": "execute_result"
    }
   ],
   "source": [
    "Z_score = (sample_mean - 0.6) / (sample_stddev / math.sqrt(121))\n",
    "\n",
    "Z_score"
   ]
  },
  {
   "cell_type": "code",
   "execution_count": 37,
   "metadata": {},
   "outputs": [
    {
     "data": {
      "text/plain": [
       "0.03920390328748273"
      ]
     },
     "execution_count": 37,
     "metadata": {},
     "output_type": "execute_result"
    }
   ],
   "source": [
    "p_value = scistat.norm.cdf(Z_score)\n",
    "\n",
    "p_value"
   ]
  },
  {
   "cell_type": "code",
   "execution_count": 38,
   "metadata": {},
   "outputs": [
    {
     "data": {
      "text/plain": [
       "0.07840780657496538"
      ]
     },
     "execution_count": 38,
     "metadata": {},
     "output_type": "execute_result"
    }
   ],
   "source": [
    "P_two_tail = 2 * (1 - scistat.norm.cdf(abs(Z_score)))\n",
    "\n",
    "P_two_tail"
   ]
  },
  {
   "cell_type": "code",
   "execution_count": null,
   "metadata": {},
   "outputs": [],
   "source": []
  }
 ],
 "metadata": {
  "kernelspec": {
   "display_name": "Python 3",
   "language": "python",
   "name": "python3"
  },
  "language_info": {
   "codemirror_mode": {
    "name": "ipython",
    "version": 3
   },
   "file_extension": ".py",
   "mimetype": "text/x-python",
   "name": "python",
   "nbconvert_exporter": "python",
   "pygments_lexer": "ipython3",
   "version": "3.11.4"
  }
 },
 "nbformat": 4,
 "nbformat_minor": 2
}
