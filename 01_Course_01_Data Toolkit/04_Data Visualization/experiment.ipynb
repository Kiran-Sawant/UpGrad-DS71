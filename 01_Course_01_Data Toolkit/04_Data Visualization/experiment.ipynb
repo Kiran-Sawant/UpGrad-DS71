{
 "cells": [
  {
   "cell_type": "markdown",
   "metadata": {},
   "source": [
    "It is possible to get fooled by the descriptive stats. Therefore its necessary to alwasy visualize the data and then make an interpretation."
   ]
  },
  {
   "cell_type": "markdown",
   "metadata": {},
   "source": [
    "Datavisualization increases our ability to interpret meaning ou of the data."
   ]
  },
  {
   "cell_type": "markdown",
   "metadata": {},
   "source": [
    "mAn important point to remember is that visualisations should be accompanied by a voice or text narrative if possible - it improves the experience of the user drastically. "
   ]
  },
  {
   "cell_type": "markdown",
   "metadata": {},
   "source": [
    "Visualizations can be a inconsistant as numbers. Some points to remember are.\n",
    "-  The point that you are trying to convey is in line with what you are presenting.\n",
    "-  Visualizations may not provide a natural flow. People are used to storiea that have a natural flow as opposed to visualizations that can be non-linear. So provide ques to user that interprets the visual easily."
   ]
  },
  {
   "cell_type": "markdown",
   "metadata": {},
   "source": []
  }
 ],
 "metadata": {
  "language_info": {
   "name": "python"
  },
  "orig_nbformat": 4
 },
 "nbformat": 4,
 "nbformat_minor": 2
}
